{
 "cells": [
  {
   "cell_type": "markdown",
   "id": "99597ca5-47d9-4f63-bed9-b3d873f16841",
   "metadata": {},
   "source": [
    "# LIBRARIES"
   ]
  },
  {
   "cell_type": "code",
   "execution_count": 1,
   "id": "66707289-c198-4047-ac46-0de7a73a533c",
   "metadata": {},
   "outputs": [],
   "source": [
    "import numpy as np \n",
    "\n",
    "import pandas as pd \n",
    "pd.set_option('display.max_columns', None)\n",
    "pd.set_option('display.max_rows', 99)\n",
    "\n",
    "import matplotlib.pyplot as plt \n",
    "import seaborn as sns \n",
    "sns.set()"
   ]
  },
  {
   "cell_type": "markdown",
   "id": "e39d1c0c-0778-4f15-bacb-6ec77b9259d5",
   "metadata": {
    "tags": []
   },
   "source": [
    "# IMPORTING DATA "
   ]
  },
  {
   "cell_type": "code",
   "execution_count": 2,
   "id": "a52599e9-619e-4263-b5a5-d14dbea62c44",
   "metadata": {},
   "outputs": [
    {
     "name": "stderr",
     "output_type": "stream",
     "text": [
      "C:\\Users\\user\\AppData\\Local\\Temp\\ipykernel_13780\\2969852544.py:1: DtypeWarning: Columns (20) have mixed types. Specify dtype option on import or set low_memory=False.\n",
      "  data_raw = pd.read_csv('loan_data_2007_2014.csv', index_col=0)\n"
     ]
    }
   ],
   "source": [
    "data_raw = pd.read_csv('loan_data_2007_2014.csv', index_col=0)"
   ]
  },
  {
   "cell_type": "markdown",
   "id": "e8ea4fa6-0ae4-4435-adab-641d2f3a26b9",
   "metadata": {},
   "source": [
    "# EXPLORING DATA "
   ]
  },
  {
   "cell_type": "code",
   "execution_count": 3,
   "id": "d14e5613-33db-4928-b4f0-13c2c957aaeb",
   "metadata": {},
   "outputs": [
    {
     "data": {
      "text/plain": [
       "(466285, 74)"
      ]
     },
     "execution_count": 3,
     "metadata": {},
     "output_type": "execute_result"
    }
   ],
   "source": [
    "data_raw.shape"
   ]
  },
  {
   "cell_type": "code",
   "execution_count": 4,
   "id": "14f2a434-98e4-426d-8914-5b56dba4f1c3",
   "metadata": {
    "scrolled": true,
    "tags": []
   },
   "outputs": [
    {
     "name": "stdout",
     "output_type": "stream",
     "text": [
      "<class 'pandas.core.frame.DataFrame'>\n",
      "Int64Index: 466285 entries, 0 to 466284\n",
      "Data columns (total 74 columns):\n",
      " #   Column                       Non-Null Count   Dtype  \n",
      "---  ------                       --------------   -----  \n",
      " 0   id                           466285 non-null  int64  \n",
      " 1   member_id                    466285 non-null  int64  \n",
      " 2   loan_amnt                    466285 non-null  int64  \n",
      " 3   funded_amnt                  466285 non-null  int64  \n",
      " 4   funded_amnt_inv              466285 non-null  float64\n",
      " 5   term                         466285 non-null  object \n",
      " 6   int_rate                     466285 non-null  float64\n",
      " 7   installment                  466285 non-null  float64\n",
      " 8   grade                        466285 non-null  object \n",
      " 9   sub_grade                    466285 non-null  object \n",
      " 10  emp_title                    438697 non-null  object \n",
      " 11  emp_length                   445277 non-null  object \n",
      " 12  home_ownership               466285 non-null  object \n",
      " 13  annual_inc                   466281 non-null  float64\n",
      " 14  verification_status          466285 non-null  object \n",
      " 15  issue_d                      466285 non-null  object \n",
      " 16  loan_status                  466285 non-null  object \n",
      " 17  pymnt_plan                   466285 non-null  object \n",
      " 18  url                          466285 non-null  object \n",
      " 19  desc                         125983 non-null  object \n",
      " 20  purpose                      466285 non-null  object \n",
      " 21  title                        466265 non-null  object \n",
      " 22  zip_code                     466285 non-null  object \n",
      " 23  addr_state                   466285 non-null  object \n",
      " 24  dti                          466285 non-null  float64\n",
      " 25  delinq_2yrs                  466256 non-null  float64\n",
      " 26  earliest_cr_line             466256 non-null  object \n",
      " 27  inq_last_6mths               466256 non-null  float64\n",
      " 28  mths_since_last_delinq       215934 non-null  float64\n",
      " 29  mths_since_last_record       62638 non-null   float64\n",
      " 30  open_acc                     466256 non-null  float64\n",
      " 31  pub_rec                      466256 non-null  float64\n",
      " 32  revol_bal                    466285 non-null  int64  \n",
      " 33  revol_util                   465945 non-null  float64\n",
      " 34  total_acc                    466256 non-null  float64\n",
      " 35  initial_list_status          466285 non-null  object \n",
      " 36  out_prncp                    466285 non-null  float64\n",
      " 37  out_prncp_inv                466285 non-null  float64\n",
      " 38  total_pymnt                  466285 non-null  float64\n",
      " 39  total_pymnt_inv              466285 non-null  float64\n",
      " 40  total_rec_prncp              466285 non-null  float64\n",
      " 41  total_rec_int                466285 non-null  float64\n",
      " 42  total_rec_late_fee           466285 non-null  float64\n",
      " 43  recoveries                   466285 non-null  float64\n",
      " 44  collection_recovery_fee      466285 non-null  float64\n",
      " 45  last_pymnt_d                 465909 non-null  object \n",
      " 46  last_pymnt_amnt              466285 non-null  float64\n",
      " 47  next_pymnt_d                 239071 non-null  object \n",
      " 48  last_credit_pull_d           466243 non-null  object \n",
      " 49  collections_12_mths_ex_med   466140 non-null  float64\n",
      " 50  mths_since_last_major_derog  98974 non-null   float64\n",
      " 51  policy_code                  466285 non-null  int64  \n",
      " 52  application_type             466285 non-null  object \n",
      " 53  annual_inc_joint             0 non-null       float64\n",
      " 54  dti_joint                    0 non-null       float64\n",
      " 55  verification_status_joint    0 non-null       float64\n",
      " 56  acc_now_delinq               466256 non-null  float64\n",
      " 57  tot_coll_amt                 396009 non-null  float64\n",
      " 58  tot_cur_bal                  396009 non-null  float64\n",
      " 59  open_acc_6m                  0 non-null       float64\n",
      " 60  open_il_6m                   0 non-null       float64\n",
      " 61  open_il_12m                  0 non-null       float64\n",
      " 62  open_il_24m                  0 non-null       float64\n",
      " 63  mths_since_rcnt_il           0 non-null       float64\n",
      " 64  total_bal_il                 0 non-null       float64\n",
      " 65  il_util                      0 non-null       float64\n",
      " 66  open_rv_12m                  0 non-null       float64\n",
      " 67  open_rv_24m                  0 non-null       float64\n",
      " 68  max_bal_bc                   0 non-null       float64\n",
      " 69  all_util                     0 non-null       float64\n",
      " 70  total_rev_hi_lim             396009 non-null  float64\n",
      " 71  inq_fi                       0 non-null       float64\n",
      " 72  total_cu_tl                  0 non-null       float64\n",
      " 73  inq_last_12m                 0 non-null       float64\n",
      "dtypes: float64(46), int64(6), object(22)\n",
      "memory usage: 266.8+ MB\n"
     ]
    }
   ],
   "source": [
    "data_raw.info()"
   ]
  },
  {
   "cell_type": "code",
   "execution_count": 5,
   "id": "ae2de89b-b107-4aed-a27a-d3e459dad9a7",
   "metadata": {},
   "outputs": [
    {
     "data": {
      "text/html": [
       "<div>\n",
       "<style scoped>\n",
       "    .dataframe tbody tr th:only-of-type {\n",
       "        vertical-align: middle;\n",
       "    }\n",
       "\n",
       "    .dataframe tbody tr th {\n",
       "        vertical-align: top;\n",
       "    }\n",
       "\n",
       "    .dataframe thead th {\n",
       "        text-align: right;\n",
       "    }\n",
       "</style>\n",
       "<table border=\"1\" class=\"dataframe\">\n",
       "  <thead>\n",
       "    <tr style=\"text-align: right;\">\n",
       "      <th></th>\n",
       "      <th>id</th>\n",
       "      <th>member_id</th>\n",
       "      <th>loan_amnt</th>\n",
       "      <th>funded_amnt</th>\n",
       "      <th>funded_amnt_inv</th>\n",
       "      <th>term</th>\n",
       "      <th>int_rate</th>\n",
       "      <th>installment</th>\n",
       "      <th>grade</th>\n",
       "      <th>sub_grade</th>\n",
       "      <th>emp_title</th>\n",
       "      <th>emp_length</th>\n",
       "      <th>home_ownership</th>\n",
       "      <th>annual_inc</th>\n",
       "      <th>verification_status</th>\n",
       "      <th>issue_d</th>\n",
       "      <th>loan_status</th>\n",
       "      <th>pymnt_plan</th>\n",
       "      <th>url</th>\n",
       "      <th>desc</th>\n",
       "      <th>purpose</th>\n",
       "      <th>title</th>\n",
       "      <th>zip_code</th>\n",
       "      <th>addr_state</th>\n",
       "      <th>dti</th>\n",
       "      <th>delinq_2yrs</th>\n",
       "      <th>earliest_cr_line</th>\n",
       "      <th>inq_last_6mths</th>\n",
       "      <th>mths_since_last_delinq</th>\n",
       "      <th>mths_since_last_record</th>\n",
       "      <th>open_acc</th>\n",
       "      <th>pub_rec</th>\n",
       "      <th>revol_bal</th>\n",
       "      <th>revol_util</th>\n",
       "      <th>total_acc</th>\n",
       "      <th>initial_list_status</th>\n",
       "      <th>out_prncp</th>\n",
       "      <th>out_prncp_inv</th>\n",
       "      <th>total_pymnt</th>\n",
       "      <th>total_pymnt_inv</th>\n",
       "      <th>total_rec_prncp</th>\n",
       "      <th>total_rec_int</th>\n",
       "      <th>total_rec_late_fee</th>\n",
       "      <th>recoveries</th>\n",
       "      <th>collection_recovery_fee</th>\n",
       "      <th>last_pymnt_d</th>\n",
       "      <th>last_pymnt_amnt</th>\n",
       "      <th>next_pymnt_d</th>\n",
       "      <th>last_credit_pull_d</th>\n",
       "      <th>collections_12_mths_ex_med</th>\n",
       "      <th>mths_since_last_major_derog</th>\n",
       "      <th>policy_code</th>\n",
       "      <th>application_type</th>\n",
       "      <th>annual_inc_joint</th>\n",
       "      <th>dti_joint</th>\n",
       "      <th>verification_status_joint</th>\n",
       "      <th>acc_now_delinq</th>\n",
       "      <th>tot_coll_amt</th>\n",
       "      <th>tot_cur_bal</th>\n",
       "      <th>open_acc_6m</th>\n",
       "      <th>open_il_6m</th>\n",
       "      <th>open_il_12m</th>\n",
       "      <th>open_il_24m</th>\n",
       "      <th>mths_since_rcnt_il</th>\n",
       "      <th>total_bal_il</th>\n",
       "      <th>il_util</th>\n",
       "      <th>open_rv_12m</th>\n",
       "      <th>open_rv_24m</th>\n",
       "      <th>max_bal_bc</th>\n",
       "      <th>all_util</th>\n",
       "      <th>total_rev_hi_lim</th>\n",
       "      <th>inq_fi</th>\n",
       "      <th>total_cu_tl</th>\n",
       "      <th>inq_last_12m</th>\n",
       "    </tr>\n",
       "  </thead>\n",
       "  <tbody>\n",
       "    <tr>\n",
       "      <th>18162</th>\n",
       "      <td>704999</td>\n",
       "      <td>897012</td>\n",
       "      <td>15800</td>\n",
       "      <td>15800</td>\n",
       "      <td>14375.24245</td>\n",
       "      <td>60 months</td>\n",
       "      <td>10.74</td>\n",
       "      <td>341.49</td>\n",
       "      <td>B</td>\n",
       "      <td>B4</td>\n",
       "      <td>Bobby Cox Companies</td>\n",
       "      <td>10+ years</td>\n",
       "      <td>MORTGAGE</td>\n",
       "      <td>84000.0</td>\n",
       "      <td>Source Verified</td>\n",
       "      <td>Mar-11</td>\n",
       "      <td>Fully Paid</td>\n",
       "      <td>n</td>\n",
       "      <td>https://www.lendingclub.com/browse/loanDetail....</td>\n",
       "      <td>Borrower added on 03/16/11 &gt; Adding value an...</td>\n",
       "      <td>home_improvement</td>\n",
       "      <td>Home-A-Loan</td>\n",
       "      <td>760xx</td>\n",
       "      <td>TX</td>\n",
       "      <td>6.29</td>\n",
       "      <td>0.0</td>\n",
       "      <td>Dec-85</td>\n",
       "      <td>0.0</td>\n",
       "      <td>NaN</td>\n",
       "      <td>NaN</td>\n",
       "      <td>14.0</td>\n",
       "      <td>0.0</td>\n",
       "      <td>18738</td>\n",
       "      <td>17.1</td>\n",
       "      <td>32.0</td>\n",
       "      <td>f</td>\n",
       "      <td>0.0</td>\n",
       "      <td>0.0</td>\n",
       "      <td>19500.6</td>\n",
       "      <td>17196.74</td>\n",
       "      <td>15800.0</td>\n",
       "      <td>3700.6</td>\n",
       "      <td>0.0</td>\n",
       "      <td>0.0</td>\n",
       "      <td>0.0</td>\n",
       "      <td>Feb-14</td>\n",
       "      <td>8236.01</td>\n",
       "      <td>NaN</td>\n",
       "      <td>Sep-14</td>\n",
       "      <td>0.0</td>\n",
       "      <td>NaN</td>\n",
       "      <td>1</td>\n",
       "      <td>INDIVIDUAL</td>\n",
       "      <td>NaN</td>\n",
       "      <td>NaN</td>\n",
       "      <td>NaN</td>\n",
       "      <td>0.0</td>\n",
       "      <td>NaN</td>\n",
       "      <td>NaN</td>\n",
       "      <td>NaN</td>\n",
       "      <td>NaN</td>\n",
       "      <td>NaN</td>\n",
       "      <td>NaN</td>\n",
       "      <td>NaN</td>\n",
       "      <td>NaN</td>\n",
       "      <td>NaN</td>\n",
       "      <td>NaN</td>\n",
       "      <td>NaN</td>\n",
       "      <td>NaN</td>\n",
       "      <td>NaN</td>\n",
       "      <td>NaN</td>\n",
       "      <td>NaN</td>\n",
       "      <td>NaN</td>\n",
       "      <td>NaN</td>\n",
       "    </tr>\n",
       "  </tbody>\n",
       "</table>\n",
       "</div>"
      ],
      "text/plain": [
       "           id  member_id  loan_amnt  funded_amnt  funded_amnt_inv        term  \\\n",
       "18162  704999     897012      15800        15800      14375.24245   60 months   \n",
       "\n",
       "       int_rate  installment grade sub_grade            emp_title emp_length  \\\n",
       "18162     10.74       341.49     B        B4  Bobby Cox Companies  10+ years   \n",
       "\n",
       "      home_ownership  annual_inc verification_status issue_d loan_status  \\\n",
       "18162       MORTGAGE     84000.0     Source Verified  Mar-11  Fully Paid   \n",
       "\n",
       "      pymnt_plan                                                url  \\\n",
       "18162          n  https://www.lendingclub.com/browse/loanDetail....   \n",
       "\n",
       "                                                    desc           purpose  \\\n",
       "18162    Borrower added on 03/16/11 > Adding value an...  home_improvement   \n",
       "\n",
       "             title zip_code addr_state   dti  delinq_2yrs earliest_cr_line  \\\n",
       "18162  Home-A-Loan    760xx         TX  6.29          0.0           Dec-85   \n",
       "\n",
       "       inq_last_6mths  mths_since_last_delinq  mths_since_last_record  \\\n",
       "18162             0.0                     NaN                     NaN   \n",
       "\n",
       "       open_acc  pub_rec  revol_bal  revol_util  total_acc  \\\n",
       "18162      14.0      0.0      18738        17.1       32.0   \n",
       "\n",
       "      initial_list_status  out_prncp  out_prncp_inv  total_pymnt  \\\n",
       "18162                   f        0.0            0.0      19500.6   \n",
       "\n",
       "       total_pymnt_inv  total_rec_prncp  total_rec_int  total_rec_late_fee  \\\n",
       "18162         17196.74          15800.0         3700.6                 0.0   \n",
       "\n",
       "       recoveries  collection_recovery_fee last_pymnt_d  last_pymnt_amnt  \\\n",
       "18162         0.0                      0.0       Feb-14          8236.01   \n",
       "\n",
       "      next_pymnt_d last_credit_pull_d  collections_12_mths_ex_med  \\\n",
       "18162          NaN             Sep-14                         0.0   \n",
       "\n",
       "       mths_since_last_major_derog  policy_code application_type  \\\n",
       "18162                          NaN            1       INDIVIDUAL   \n",
       "\n",
       "       annual_inc_joint  dti_joint  verification_status_joint  acc_now_delinq  \\\n",
       "18162               NaN        NaN                        NaN             0.0   \n",
       "\n",
       "       tot_coll_amt  tot_cur_bal  open_acc_6m  open_il_6m  open_il_12m  \\\n",
       "18162           NaN          NaN          NaN         NaN          NaN   \n",
       "\n",
       "       open_il_24m  mths_since_rcnt_il  total_bal_il  il_util  open_rv_12m  \\\n",
       "18162          NaN                 NaN           NaN      NaN          NaN   \n",
       "\n",
       "       open_rv_24m  max_bal_bc  all_util  total_rev_hi_lim  inq_fi  \\\n",
       "18162          NaN         NaN       NaN               NaN     NaN   \n",
       "\n",
       "       total_cu_tl  inq_last_12m  \n",
       "18162          NaN           NaN  "
      ]
     },
     "execution_count": 5,
     "metadata": {},
     "output_type": "execute_result"
    }
   ],
   "source": [
    "data_raw.sample()"
   ]
  },
  {
   "cell_type": "code",
   "execution_count": 6,
   "id": "b72e82ae-d940-42c7-afd7-c0b1355aee20",
   "metadata": {},
   "outputs": [
    {
     "data": {
      "text/plain": [
       "466285"
      ]
     },
     "execution_count": 6,
     "metadata": {},
     "output_type": "execute_result"
    }
   ],
   "source": [
    "data_raw.id.nunique()"
   ]
  },
  {
   "cell_type": "code",
   "execution_count": 7,
   "id": "dc5c9660-f592-49a0-86ea-6117fcb1b177",
   "metadata": {},
   "outputs": [
    {
     "data": {
      "text/plain": [
       "466285"
      ]
     },
     "execution_count": 7,
     "metadata": {},
     "output_type": "execute_result"
    }
   ],
   "source": [
    "data_raw.member_id.nunique()"
   ]
  },
  {
   "cell_type": "markdown",
   "id": "2a432ed8-4223-4a72-a272-a3ec9e088dec",
   "metadata": {
    "jp-MarkdownHeadingCollapsed": true,
    "tags": []
   },
   "source": [
    "Terlihat bahwa tidak ada `id` atau `member_id` yang duplikat, artinya setiap baris sudah mewakili satu individu."
   ]
  },
  {
   "cell_type": "markdown",
   "id": "96d47ff1-4569-4a19-8236-51efda3c4e45",
   "metadata": {},
   "source": [
    "Selanjutnya, pembuangan fitur-fitur yang tidak berguna dilakukan. Contohnya seperti fitur yang merupakan id unik, berupa free text, nilainya kosong semua (NULL), dsb."
   ]
  },
  {
   "cell_type": "code",
   "execution_count": 8,
   "id": "9b836e49-0716-47c6-b5e8-657156bc41ed",
   "metadata": {},
   "outputs": [],
   "source": [
    "cols_to_drop = [\n",
    "    # unique id\n",
    "    'id'\n",
    "    , 'member_id'\n",
    "    \n",
    "    # free text\n",
    "    , 'url'\n",
    "    , 'desc'\n",
    "    \n",
    "    # all null / constant / others\n",
    "    , 'zip_code' \n",
    "    , 'annual_inc_joint'\n",
    "    , 'dti_joint'\n",
    "    , 'verification_status_joint'\n",
    "    , 'open_acc_6m'\n",
    "    , 'open_il_6m'\n",
    "    , 'open_il_12m'\n",
    "    , 'open_il_24m'\n",
    "    , 'mths_since_rcnt_il'\n",
    "    , 'total_bal_il'\n",
    "    , 'il_util'\n",
    "    , 'open_rv_12m'\n",
    "    , 'open_rv_24m'\n",
    "    , 'max_bal_bc'\n",
    "    , 'all_util'\n",
    "    , 'inq_fi'\n",
    "    , 'total_cu_tl'\n",
    "    , 'inq_last_12m'\n",
    "    \n",
    "    # expert judgment\n",
    "    , 'sub_grade'\n",
    "]"
   ]
  },
  {
   "cell_type": "code",
   "execution_count": 9,
   "id": "ad25b882-2dad-4f6a-a4b1-4d8560b18143",
   "metadata": {},
   "outputs": [],
   "source": [
    "data = data_raw.drop(cols_to_drop, axis=1)"
   ]
  },
  {
   "cell_type": "code",
   "execution_count": 10,
   "id": "816f0626-4128-4070-a773-89032db86642",
   "metadata": {},
   "outputs": [
    {
     "data": {
      "text/html": [
       "<div>\n",
       "<style scoped>\n",
       "    .dataframe tbody tr th:only-of-type {\n",
       "        vertical-align: middle;\n",
       "    }\n",
       "\n",
       "    .dataframe tbody tr th {\n",
       "        vertical-align: top;\n",
       "    }\n",
       "\n",
       "    .dataframe thead th {\n",
       "        text-align: right;\n",
       "    }\n",
       "</style>\n",
       "<table border=\"1\" class=\"dataframe\">\n",
       "  <thead>\n",
       "    <tr style=\"text-align: right;\">\n",
       "      <th></th>\n",
       "      <th>loan_amnt</th>\n",
       "      <th>funded_amnt</th>\n",
       "      <th>funded_amnt_inv</th>\n",
       "      <th>term</th>\n",
       "      <th>int_rate</th>\n",
       "      <th>installment</th>\n",
       "      <th>grade</th>\n",
       "      <th>emp_title</th>\n",
       "      <th>emp_length</th>\n",
       "      <th>home_ownership</th>\n",
       "      <th>annual_inc</th>\n",
       "      <th>verification_status</th>\n",
       "      <th>issue_d</th>\n",
       "      <th>loan_status</th>\n",
       "      <th>pymnt_plan</th>\n",
       "      <th>purpose</th>\n",
       "      <th>title</th>\n",
       "      <th>addr_state</th>\n",
       "      <th>dti</th>\n",
       "      <th>delinq_2yrs</th>\n",
       "      <th>earliest_cr_line</th>\n",
       "      <th>inq_last_6mths</th>\n",
       "      <th>mths_since_last_delinq</th>\n",
       "      <th>mths_since_last_record</th>\n",
       "      <th>open_acc</th>\n",
       "      <th>pub_rec</th>\n",
       "      <th>revol_bal</th>\n",
       "      <th>revol_util</th>\n",
       "      <th>total_acc</th>\n",
       "      <th>initial_list_status</th>\n",
       "      <th>out_prncp</th>\n",
       "      <th>out_prncp_inv</th>\n",
       "      <th>total_pymnt</th>\n",
       "      <th>total_pymnt_inv</th>\n",
       "      <th>total_rec_prncp</th>\n",
       "      <th>total_rec_int</th>\n",
       "      <th>total_rec_late_fee</th>\n",
       "      <th>recoveries</th>\n",
       "      <th>collection_recovery_fee</th>\n",
       "      <th>last_pymnt_d</th>\n",
       "      <th>last_pymnt_amnt</th>\n",
       "      <th>next_pymnt_d</th>\n",
       "      <th>last_credit_pull_d</th>\n",
       "      <th>collections_12_mths_ex_med</th>\n",
       "      <th>mths_since_last_major_derog</th>\n",
       "      <th>policy_code</th>\n",
       "      <th>application_type</th>\n",
       "      <th>acc_now_delinq</th>\n",
       "      <th>tot_coll_amt</th>\n",
       "      <th>tot_cur_bal</th>\n",
       "      <th>total_rev_hi_lim</th>\n",
       "    </tr>\n",
       "  </thead>\n",
       "  <tbody>\n",
       "    <tr>\n",
       "      <th>359462</th>\n",
       "      <td>1500</td>\n",
       "      <td>1500</td>\n",
       "      <td>1500.0</td>\n",
       "      <td>36 months</td>\n",
       "      <td>20.99</td>\n",
       "      <td>56.51</td>\n",
       "      <td>E</td>\n",
       "      <td>Shippng and support lead</td>\n",
       "      <td>7 years</td>\n",
       "      <td>RENT</td>\n",
       "      <td>38000.0</td>\n",
       "      <td>Not Verified</td>\n",
       "      <td>Jul-14</td>\n",
       "      <td>Fully Paid</td>\n",
       "      <td>n</td>\n",
       "      <td>vacation</td>\n",
       "      <td>Vacation</td>\n",
       "      <td>CA</td>\n",
       "      <td>32.66</td>\n",
       "      <td>0.0</td>\n",
       "      <td>Dec-00</td>\n",
       "      <td>0.0</td>\n",
       "      <td>NaN</td>\n",
       "      <td>NaN</td>\n",
       "      <td>11.0</td>\n",
       "      <td>0.0</td>\n",
       "      <td>14173</td>\n",
       "      <td>78.3</td>\n",
       "      <td>18.0</td>\n",
       "      <td>w</td>\n",
       "      <td>0.00</td>\n",
       "      <td>0.00</td>\n",
       "      <td>1724.020000</td>\n",
       "      <td>1724.02</td>\n",
       "      <td>1500.00</td>\n",
       "      <td>224.02</td>\n",
       "      <td>0.0</td>\n",
       "      <td>0.0</td>\n",
       "      <td>0.0</td>\n",
       "      <td>May-15</td>\n",
       "      <td>7.74</td>\n",
       "      <td>NaN</td>\n",
       "      <td>Apr-15</td>\n",
       "      <td>0.0</td>\n",
       "      <td>NaN</td>\n",
       "      <td>1</td>\n",
       "      <td>INDIVIDUAL</td>\n",
       "      <td>0.0</td>\n",
       "      <td>75.0</td>\n",
       "      <td>27767.0</td>\n",
       "      <td>18100.0</td>\n",
       "    </tr>\n",
       "    <tr>\n",
       "      <th>143706</th>\n",
       "      <td>10000</td>\n",
       "      <td>10000</td>\n",
       "      <td>10000.0</td>\n",
       "      <td>36 months</td>\n",
       "      <td>17.27</td>\n",
       "      <td>357.88</td>\n",
       "      <td>C</td>\n",
       "      <td>USAF</td>\n",
       "      <td>9 years</td>\n",
       "      <td>MORTGAGE</td>\n",
       "      <td>58000.0</td>\n",
       "      <td>Verified</td>\n",
       "      <td>May-13</td>\n",
       "      <td>Fully Paid</td>\n",
       "      <td>n</td>\n",
       "      <td>debt_consolidation</td>\n",
       "      <td>debt consolidation</td>\n",
       "      <td>NV</td>\n",
       "      <td>29.40</td>\n",
       "      <td>0.0</td>\n",
       "      <td>Aug-04</td>\n",
       "      <td>3.0</td>\n",
       "      <td>NaN</td>\n",
       "      <td>NaN</td>\n",
       "      <td>14.0</td>\n",
       "      <td>0.0</td>\n",
       "      <td>9283</td>\n",
       "      <td>34.5</td>\n",
       "      <td>27.0</td>\n",
       "      <td>f</td>\n",
       "      <td>0.00</td>\n",
       "      <td>0.00</td>\n",
       "      <td>12418.739660</td>\n",
       "      <td>12418.74</td>\n",
       "      <td>10000.00</td>\n",
       "      <td>2418.74</td>\n",
       "      <td>0.0</td>\n",
       "      <td>0.0</td>\n",
       "      <td>0.0</td>\n",
       "      <td>Mar-15</td>\n",
       "      <td>4908.39</td>\n",
       "      <td>NaN</td>\n",
       "      <td>Jan-16</td>\n",
       "      <td>0.0</td>\n",
       "      <td>NaN</td>\n",
       "      <td>1</td>\n",
       "      <td>INDIVIDUAL</td>\n",
       "      <td>0.0</td>\n",
       "      <td>0.0</td>\n",
       "      <td>215159.0</td>\n",
       "      <td>26900.0</td>\n",
       "    </tr>\n",
       "    <tr>\n",
       "      <th>298727</th>\n",
       "      <td>12000</td>\n",
       "      <td>12000</td>\n",
       "      <td>12000.0</td>\n",
       "      <td>36 months</td>\n",
       "      <td>10.99</td>\n",
       "      <td>392.81</td>\n",
       "      <td>B</td>\n",
       "      <td>NaN</td>\n",
       "      <td>NaN</td>\n",
       "      <td>RENT</td>\n",
       "      <td>35000.0</td>\n",
       "      <td>Verified</td>\n",
       "      <td>Oct-14</td>\n",
       "      <td>Current</td>\n",
       "      <td>n</td>\n",
       "      <td>debt_consolidation</td>\n",
       "      <td>Debt consolidation</td>\n",
       "      <td>NY</td>\n",
       "      <td>25.51</td>\n",
       "      <td>0.0</td>\n",
       "      <td>May-99</td>\n",
       "      <td>0.0</td>\n",
       "      <td>NaN</td>\n",
       "      <td>20.0</td>\n",
       "      <td>7.0</td>\n",
       "      <td>1.0</td>\n",
       "      <td>25176</td>\n",
       "      <td>56.1</td>\n",
       "      <td>12.0</td>\n",
       "      <td>w</td>\n",
       "      <td>7473.20</td>\n",
       "      <td>7473.20</td>\n",
       "      <td>5892.150000</td>\n",
       "      <td>5892.15</td>\n",
       "      <td>4526.80</td>\n",
       "      <td>1365.35</td>\n",
       "      <td>0.0</td>\n",
       "      <td>0.0</td>\n",
       "      <td>0.0</td>\n",
       "      <td>Jan-16</td>\n",
       "      <td>392.81</td>\n",
       "      <td>Feb-16</td>\n",
       "      <td>Jan-16</td>\n",
       "      <td>0.0</td>\n",
       "      <td>NaN</td>\n",
       "      <td>1</td>\n",
       "      <td>INDIVIDUAL</td>\n",
       "      <td>0.0</td>\n",
       "      <td>0.0</td>\n",
       "      <td>25176.0</td>\n",
       "      <td>44900.0</td>\n",
       "    </tr>\n",
       "    <tr>\n",
       "      <th>187145</th>\n",
       "      <td>1000</td>\n",
       "      <td>1000</td>\n",
       "      <td>1000.0</td>\n",
       "      <td>36 months</td>\n",
       "      <td>11.14</td>\n",
       "      <td>32.81</td>\n",
       "      <td>B</td>\n",
       "      <td>Farmers insurance</td>\n",
       "      <td>8 years</td>\n",
       "      <td>MORTGAGE</td>\n",
       "      <td>58000.0</td>\n",
       "      <td>Not Verified</td>\n",
       "      <td>Nov-12</td>\n",
       "      <td>Fully Paid</td>\n",
       "      <td>n</td>\n",
       "      <td>major_purchase</td>\n",
       "      <td>New new</td>\n",
       "      <td>OK</td>\n",
       "      <td>14.21</td>\n",
       "      <td>0.0</td>\n",
       "      <td>Mar-98</td>\n",
       "      <td>1.0</td>\n",
       "      <td>28.0</td>\n",
       "      <td>NaN</td>\n",
       "      <td>11.0</td>\n",
       "      <td>0.0</td>\n",
       "      <td>7997</td>\n",
       "      <td>49.4</td>\n",
       "      <td>30.0</td>\n",
       "      <td>f</td>\n",
       "      <td>0.00</td>\n",
       "      <td>0.00</td>\n",
       "      <td>1141.729029</td>\n",
       "      <td>1141.73</td>\n",
       "      <td>1000.00</td>\n",
       "      <td>141.73</td>\n",
       "      <td>0.0</td>\n",
       "      <td>0.0</td>\n",
       "      <td>0.0</td>\n",
       "      <td>Jul-14</td>\n",
       "      <td>518.49</td>\n",
       "      <td>NaN</td>\n",
       "      <td>Aug-14</td>\n",
       "      <td>0.0</td>\n",
       "      <td>NaN</td>\n",
       "      <td>1</td>\n",
       "      <td>INDIVIDUAL</td>\n",
       "      <td>0.0</td>\n",
       "      <td>0.0</td>\n",
       "      <td>160474.0</td>\n",
       "      <td>16200.0</td>\n",
       "    </tr>\n",
       "    <tr>\n",
       "      <th>391326</th>\n",
       "      <td>11800</td>\n",
       "      <td>11800</td>\n",
       "      <td>11800.0</td>\n",
       "      <td>36 months</td>\n",
       "      <td>12.99</td>\n",
       "      <td>397.54</td>\n",
       "      <td>C</td>\n",
       "      <td>Teacher</td>\n",
       "      <td>10+ years</td>\n",
       "      <td>MORTGAGE</td>\n",
       "      <td>49500.0</td>\n",
       "      <td>Verified</td>\n",
       "      <td>May-14</td>\n",
       "      <td>Current</td>\n",
       "      <td>n</td>\n",
       "      <td>debt_consolidation</td>\n",
       "      <td>Debt consolidation</td>\n",
       "      <td>LA</td>\n",
       "      <td>4.10</td>\n",
       "      <td>0.0</td>\n",
       "      <td>Aug-84</td>\n",
       "      <td>0.0</td>\n",
       "      <td>36.0</td>\n",
       "      <td>82.0</td>\n",
       "      <td>11.0</td>\n",
       "      <td>1.0</td>\n",
       "      <td>4804</td>\n",
       "      <td>55.2</td>\n",
       "      <td>34.0</td>\n",
       "      <td>w</td>\n",
       "      <td>5811.22</td>\n",
       "      <td>5811.22</td>\n",
       "      <td>7950.800000</td>\n",
       "      <td>7950.80</td>\n",
       "      <td>5988.78</td>\n",
       "      <td>1962.02</td>\n",
       "      <td>0.0</td>\n",
       "      <td>0.0</td>\n",
       "      <td>0.0</td>\n",
       "      <td>Jan-16</td>\n",
       "      <td>397.54</td>\n",
       "      <td>Feb-16</td>\n",
       "      <td>Jan-16</td>\n",
       "      <td>2.0</td>\n",
       "      <td>36.0</td>\n",
       "      <td>1</td>\n",
       "      <td>INDIVIDUAL</td>\n",
       "      <td>0.0</td>\n",
       "      <td>7691.0</td>\n",
       "      <td>206180.0</td>\n",
       "      <td>8700.0</td>\n",
       "    </tr>\n",
       "  </tbody>\n",
       "</table>\n",
       "</div>"
      ],
      "text/plain": [
       "        loan_amnt  funded_amnt  funded_amnt_inv        term  int_rate  \\\n",
       "359462       1500         1500           1500.0   36 months     20.99   \n",
       "143706      10000        10000          10000.0   36 months     17.27   \n",
       "298727      12000        12000          12000.0   36 months     10.99   \n",
       "187145       1000         1000           1000.0   36 months     11.14   \n",
       "391326      11800        11800          11800.0   36 months     12.99   \n",
       "\n",
       "        installment grade                 emp_title emp_length home_ownership  \\\n",
       "359462        56.51     E  Shippng and support lead    7 years           RENT   \n",
       "143706       357.88     C                      USAF    9 years       MORTGAGE   \n",
       "298727       392.81     B                       NaN        NaN           RENT   \n",
       "187145        32.81     B        Farmers insurance     8 years       MORTGAGE   \n",
       "391326       397.54     C                   Teacher  10+ years       MORTGAGE   \n",
       "\n",
       "        annual_inc verification_status issue_d loan_status pymnt_plan  \\\n",
       "359462     38000.0        Not Verified  Jul-14  Fully Paid          n   \n",
       "143706     58000.0            Verified  May-13  Fully Paid          n   \n",
       "298727     35000.0            Verified  Oct-14     Current          n   \n",
       "187145     58000.0        Not Verified  Nov-12  Fully Paid          n   \n",
       "391326     49500.0            Verified  May-14     Current          n   \n",
       "\n",
       "                   purpose               title addr_state    dti  delinq_2yrs  \\\n",
       "359462            vacation            Vacation         CA  32.66          0.0   \n",
       "143706  debt_consolidation  debt consolidation         NV  29.40          0.0   \n",
       "298727  debt_consolidation  Debt consolidation         NY  25.51          0.0   \n",
       "187145      major_purchase             New new         OK  14.21          0.0   \n",
       "391326  debt_consolidation  Debt consolidation         LA   4.10          0.0   \n",
       "\n",
       "       earliest_cr_line  inq_last_6mths  mths_since_last_delinq  \\\n",
       "359462           Dec-00             0.0                     NaN   \n",
       "143706           Aug-04             3.0                     NaN   \n",
       "298727           May-99             0.0                     NaN   \n",
       "187145           Mar-98             1.0                    28.0   \n",
       "391326           Aug-84             0.0                    36.0   \n",
       "\n",
       "        mths_since_last_record  open_acc  pub_rec  revol_bal  revol_util  \\\n",
       "359462                     NaN      11.0      0.0      14173        78.3   \n",
       "143706                     NaN      14.0      0.0       9283        34.5   \n",
       "298727                    20.0       7.0      1.0      25176        56.1   \n",
       "187145                     NaN      11.0      0.0       7997        49.4   \n",
       "391326                    82.0      11.0      1.0       4804        55.2   \n",
       "\n",
       "        total_acc initial_list_status  out_prncp  out_prncp_inv   total_pymnt  \\\n",
       "359462       18.0                   w       0.00           0.00   1724.020000   \n",
       "143706       27.0                   f       0.00           0.00  12418.739660   \n",
       "298727       12.0                   w    7473.20        7473.20   5892.150000   \n",
       "187145       30.0                   f       0.00           0.00   1141.729029   \n",
       "391326       34.0                   w    5811.22        5811.22   7950.800000   \n",
       "\n",
       "        total_pymnt_inv  total_rec_prncp  total_rec_int  total_rec_late_fee  \\\n",
       "359462          1724.02          1500.00         224.02                 0.0   \n",
       "143706         12418.74         10000.00        2418.74                 0.0   \n",
       "298727          5892.15          4526.80        1365.35                 0.0   \n",
       "187145          1141.73          1000.00         141.73                 0.0   \n",
       "391326          7950.80          5988.78        1962.02                 0.0   \n",
       "\n",
       "        recoveries  collection_recovery_fee last_pymnt_d  last_pymnt_amnt  \\\n",
       "359462         0.0                      0.0       May-15             7.74   \n",
       "143706         0.0                      0.0       Mar-15          4908.39   \n",
       "298727         0.0                      0.0       Jan-16           392.81   \n",
       "187145         0.0                      0.0       Jul-14           518.49   \n",
       "391326         0.0                      0.0       Jan-16           397.54   \n",
       "\n",
       "       next_pymnt_d last_credit_pull_d  collections_12_mths_ex_med  \\\n",
       "359462          NaN             Apr-15                         0.0   \n",
       "143706          NaN             Jan-16                         0.0   \n",
       "298727       Feb-16             Jan-16                         0.0   \n",
       "187145          NaN             Aug-14                         0.0   \n",
       "391326       Feb-16             Jan-16                         2.0   \n",
       "\n",
       "        mths_since_last_major_derog  policy_code application_type  \\\n",
       "359462                          NaN            1       INDIVIDUAL   \n",
       "143706                          NaN            1       INDIVIDUAL   \n",
       "298727                          NaN            1       INDIVIDUAL   \n",
       "187145                          NaN            1       INDIVIDUAL   \n",
       "391326                         36.0            1       INDIVIDUAL   \n",
       "\n",
       "        acc_now_delinq  tot_coll_amt  tot_cur_bal  total_rev_hi_lim  \n",
       "359462             0.0          75.0      27767.0           18100.0  \n",
       "143706             0.0           0.0     215159.0           26900.0  \n",
       "298727             0.0           0.0      25176.0           44900.0  \n",
       "187145             0.0           0.0     160474.0           16200.0  \n",
       "391326             0.0        7691.0     206180.0            8700.0  "
      ]
     },
     "execution_count": 10,
     "metadata": {},
     "output_type": "execute_result"
    }
   ],
   "source": [
    "data.sample(5)"
   ]
  },
  {
   "cell_type": "markdown",
   "id": "da3e1988-70da-4958-85ec-c8866cebd7fd",
   "metadata": {
    "tags": []
   },
   "source": [
    "# DEFINE TARGET VARIABLE / LABELING"
   ]
  },
  {
   "cell_type": "markdown",
   "id": "44602917-ef8a-46c6-9331-9272c123e0e5",
   "metadata": {},
   "source": [
    "Dalam project credit risk modeling, tujuan utama adalah untuk melakukan prediksi terhadap suatu individu akan kemampuan mereka untuk melakukan pembayaran terhadap pinjaman/kredit yang diberikan. Oleh karena itu, variabel target yang digunakan harus mencerminkan kemampuan individu dalam hal tersebut. "
   ]
  },
  {
   "cell_type": "markdown",
   "id": "5e4fcac9-6eb4-4890-9eb5-538f21f0983c",
   "metadata": {},
   "source": [
    "Dalam dataset ini, variabel `loan_status` adalah variabel yang dapat dijadikan variabel target karena mencerminkan performa masing-masing individu dalam melakukan pembayaran terhadap pinjaman/kredit selama ini."
   ]
  },
  {
   "cell_type": "code",
   "execution_count": 11,
   "id": "44f62c30-218b-421a-a0ae-435b0a10fad1",
   "metadata": {},
   "outputs": [
    {
     "data": {
      "text/plain": [
       "Current                                                48.087757\n",
       "Fully Paid                                             39.619332\n",
       "Charged Off                                             9.109236\n",
       "Late (31-120 days)                                      1.479782\n",
       "In Grace Period                                         0.674695\n",
       "Does not meet the credit policy. Status:Fully Paid      0.426349\n",
       "Late (16-30 days)                                       0.261214\n",
       "Default                                                 0.178432\n",
       "Does not meet the credit policy. Status:Charged Off     0.163205\n",
       "Name: loan_status, dtype: float64"
      ]
     },
     "execution_count": 11,
     "metadata": {},
     "output_type": "execute_result"
    }
   ],
   "source": [
    "data.loan_status.value_counts(normalize=True)*100"
   ]
  },
  {
   "cell_type": "markdown",
   "id": "a2eae777-8b21-41be-b3e6-6f94e7da71b1",
   "metadata": {},
   "source": [
    "Dapat dilihat bahwa variabel `loan_status` memiliki beberapa nilai:"
   ]
  },
  {
   "cell_type": "markdown",
   "id": "aa95e9b6-184e-4f39-876a-0b10d02572e7",
   "metadata": {},
   "source": [
    "`Current` artinya pembayaran lancar; `Charged Off` artinya pembayaran macet sehingga dihapusbukukan; `Late` artinya pembayaran telat dilakukan; `In Grace Period` artinya dalam masa tenggang; `Fully Paid` artinya pembayaran lunas; `Default` artinya pembayaran macet"
   ]
  },
  {
   "cell_type": "markdown",
   "id": "cef1c933-a27a-4f31-b8f5-6396b4230a71",
   "metadata": {},
   "source": [
    "Dari definisi-definisi tersebut, masing-masing individu dapat ditandai apakah mereka merupakan `bad loan` (peminjam yang buruk) atau `good loan` (peminjam yang baik)"
   ]
  },
  {
   "cell_type": "markdown",
   "id": "ae1c5e10-21cc-46f5-9afe-9eb15e1cb08e",
   "metadata": {},
   "source": [
    "Definisi bad dan good loan terkadang bisa berbeda tergantung dari kebutuhan bisnis. Pada contoh ini, saya menggunakan keterlambatan pembayaran di atas 30 hari dan yang lebih buruk dari itu sebagai penanda bad loan."
   ]
  },
  {
   "cell_type": "code",
   "execution_count": 12,
   "id": "40095b4b-0181-432d-af07-fc25e5c6b8fe",
   "metadata": {},
   "outputs": [],
   "source": [
    "bad_status = [\n",
    "    'Charged Off' \n",
    "    , 'Default' \n",
    "    , 'Does not meet the credit policy. Status:Charged Off'\n",
    "    , 'Late (31-120 days)'\n",
    "]\n",
    "\n",
    "data['bad_flag'] = np.where(data['loan_status'].isin(bad_status), 1, 0)"
   ]
  },
  {
   "cell_type": "code",
   "execution_count": 13,
   "id": "d2e90734-c995-4dca-af6c-7db90b3beb79",
   "metadata": {},
   "outputs": [
    {
     "data": {
      "text/plain": [
       "0    89.069346\n",
       "1    10.930654\n",
       "Name: bad_flag, dtype: float64"
      ]
     },
     "execution_count": 13,
     "metadata": {},
     "output_type": "execute_result"
    }
   ],
   "source": [
    "data['bad_flag'].value_counts(normalize=True)*100"
   ]
  },
  {
   "cell_type": "markdown",
   "id": "934107d7-9757-42d4-9333-c234430c0648",
   "metadata": {},
   "source": [
    "Setelah melakukan flagging terhadap bad/good loan, dapat dilihat bahwa jumlah individu yang ditandai sebagai bad loan jauh lebih sedikit daripada good loan. Hal ini menyebabkan problem ini menjadi problem imbalanced dataset."
   ]
  },
  {
   "cell_type": "markdown",
   "id": "175024c9-9686-4a2f-8c9c-f4b2f74edb29",
   "metadata": {},
   "source": [
    "Jangan lupa untuk membuang kolom asal `loan_status` "
   ]
  },
  {
   "cell_type": "code",
   "execution_count": 14,
   "id": "64ca6b3f-d165-4e53-9368-b890335c0f04",
   "metadata": {},
   "outputs": [],
   "source": [
    "data.drop('loan_status', axis=1, inplace=True)"
   ]
  },
  {
   "cell_type": "markdown",
   "id": "55a4d30b-deea-4d22-b082-9e47fff922d5",
   "metadata": {
    "tags": []
   },
   "source": [
    "# CLEANING, PREPROCESSING, FEATURE ENGINEERING"
   ]
  },
  {
   "cell_type": "markdown",
   "id": "36ea8436-a032-4c92-b267-d6c600b8f51a",
   "metadata": {},
   "source": [
    "Pada step ini, dilakukan pembersihan/modifikasi beberapa fitur ke dalam format yang dapat digunakan untuk modeling."
   ]
  },
  {
   "cell_type": "markdown",
   "id": "07f366c4-907d-4ab9-84bb-49ba304baae7",
   "metadata": {},
   "source": [
    "### emp_length"
   ]
  },
  {
   "cell_type": "markdown",
   "id": "8b0089ae-9856-4295-8f13-259ffa53541e",
   "metadata": {},
   "source": [
    "Memodifikasi `emp_length`. Contoh: 4 years -> 4"
   ]
  },
  {
   "cell_type": "code",
   "execution_count": 15,
   "id": "f3a36a04-a5dc-4e16-8930-176c03442155",
   "metadata": {},
   "outputs": [
    {
     "data": {
      "text/plain": [
       "array(['10+ years', '< 1 year', '1 year', '3 years', '8 years', '9 years',\n",
       "       '4 years', '5 years', '6 years', '2 years', '7 years', nan],\n",
       "      dtype=object)"
      ]
     },
     "execution_count": 15,
     "metadata": {},
     "output_type": "execute_result"
    }
   ],
   "source": [
    "data['emp_length'].unique()"
   ]
  },
  {
   "cell_type": "code",
   "execution_count": 16,
   "id": "e39a05a9-b651-413a-8e12-9890f68923b5",
   "metadata": {},
   "outputs": [
    {
     "name": "stderr",
     "output_type": "stream",
     "text": [
      "C:\\Users\\user\\AppData\\Local\\Temp\\ipykernel_13780\\1742887160.py:1: FutureWarning: The default value of regex will change from True to False in a future version.\n",
      "  data['emp_length_int'] = data['emp_length'].str.replace('\\+ years', '')\n"
     ]
    }
   ],
   "source": [
    "data['emp_length_int'] = data['emp_length'].str.replace('\\+ years', '')\n",
    "data['emp_length_int'] = data['emp_length_int'].str.replace('< 1 year', str(0))\n",
    "data['emp_length_int'] = data['emp_length_int'].str.replace(' years', '')\n",
    "data['emp_length_int'] = data['emp_length_int'].str.replace(' year', '')"
   ]
  },
  {
   "cell_type": "code",
   "execution_count": 17,
   "id": "da25ef25-1c61-45a4-bd2d-0b7b44ac19cd",
   "metadata": {},
   "outputs": [],
   "source": [
    "data['emp_length_int'] = data['emp_length_int'].astype(float)"
   ]
  },
  {
   "cell_type": "code",
   "execution_count": 18,
   "id": "882c194d-9e31-4b64-b333-c653466db304",
   "metadata": {},
   "outputs": [],
   "source": [
    "data.drop('emp_length', axis=1, inplace=True)"
   ]
  },
  {
   "cell_type": "markdown",
   "id": "752b77e6-0b41-4126-bf8f-48267cbadce7",
   "metadata": {},
   "source": [
    "### term"
   ]
  },
  {
   "cell_type": "markdown",
   "id": "d5887e83-7874-4f46-978e-c760f872da6e",
   "metadata": {},
   "source": [
    "Memodifikasi `term`. Contoh: 36 months -> 36"
   ]
  },
  {
   "cell_type": "code",
   "execution_count": 19,
   "id": "a2fe1bd1-ee4e-4d24-a7da-48915f7994ac",
   "metadata": {},
   "outputs": [
    {
     "data": {
      "text/plain": [
       "array([' 36 months', ' 60 months'], dtype=object)"
      ]
     },
     "execution_count": 19,
     "metadata": {},
     "output_type": "execute_result"
    }
   ],
   "source": [
    "data['term'].unique()"
   ]
  },
  {
   "cell_type": "code",
   "execution_count": 20,
   "id": "fcb118cf-b5e6-4e4d-a599-2cbd467c93f9",
   "metadata": {},
   "outputs": [],
   "source": [
    "data['term_int'] = data['term'].str.replace(' months', '')\n",
    "data['term_int'] = data['term_int'].astype(float)"
   ]
  },
  {
   "cell_type": "code",
   "execution_count": 21,
   "id": "612fb81d-be67-498c-9b66-ec318aa91147",
   "metadata": {},
   "outputs": [],
   "source": [
    "data.drop('term', axis=1, inplace=True)"
   ]
  },
  {
   "cell_type": "markdown",
   "id": "29f06348-36b5-4dcb-8bf0-ba9ce8fe5926",
   "metadata": {},
   "source": [
    "### earliest_cr_line"
   ]
  },
  {
   "cell_type": "markdown",
   "id": "ee00acc9-5100-45d8-bd2e-f60897611c81",
   "metadata": {},
   "source": [
    "Memodifikasi `earliest_cr_line` dari format bulan-tahun menjadi perhitungan berapa lama waktu berlalu sejak waktu tersebut. Untuk melakukan hal ini, umumnya digunakan reference date = hari ini. Namun, karena dataset ini merupakan dataset tahun 2007-2014, maka akan lebih relevan jika menggunakan reference date di sekitar tahun 2017. Dalam contoh ini, saya menggunakan tanggal 2017-12-01 sebagai reference date."
   ]
  },
  {
   "cell_type": "code",
   "execution_count": 22,
   "id": "61a11bc8-67bc-4049-85e2-49d14e0a7595",
   "metadata": {},
   "outputs": [
    {
     "data": {
      "text/plain": [
       "0    Jan-85\n",
       "1    Apr-99\n",
       "2    Nov-01\n",
       "Name: earliest_cr_line, dtype: object"
      ]
     },
     "execution_count": 22,
     "metadata": {},
     "output_type": "execute_result"
    }
   ],
   "source": [
    "data['earliest_cr_line'].head(3)"
   ]
  },
  {
   "cell_type": "code",
   "execution_count": 23,
   "id": "ef6a827e-9b23-4c6d-b6ea-35f18466278f",
   "metadata": {},
   "outputs": [
    {
     "data": {
      "text/plain": [
       "0   1985-01-01\n",
       "1   1999-04-01\n",
       "2   2001-11-01\n",
       "Name: earliest_cr_line_date, dtype: datetime64[ns]"
      ]
     },
     "execution_count": 23,
     "metadata": {},
     "output_type": "execute_result"
    }
   ],
   "source": [
    "data['earliest_cr_line_date'] = pd.to_datetime(data['earliest_cr_line'], format='%b-%y')\n",
    "data['earliest_cr_line_date'].head(3)"
   ]
  },
  {
   "cell_type": "code",
   "execution_count": 24,
   "id": "927e5fa7-f538-42c4-a41d-2d1e675e34a0",
   "metadata": {},
   "outputs": [
    {
     "data": {
      "text/plain": [
       "0    395.0\n",
       "1    224.0\n",
       "2    193.0\n",
       "Name: mths_since_earliest_cr_line, dtype: float64"
      ]
     },
     "execution_count": 24,
     "metadata": {},
     "output_type": "execute_result"
    }
   ],
   "source": [
    "data['mths_since_earliest_cr_line'] = round(pd.to_numeric((pd.to_datetime('2017-12-01') - data['earliest_cr_line_date']) / np.timedelta64(1, 'M')))\n",
    "data['mths_since_earliest_cr_line'].head(3)"
   ]
  },
  {
   "cell_type": "code",
   "execution_count": 25,
   "id": "734bde13-2bf2-4672-907a-4e684c2f3701",
   "metadata": {},
   "outputs": [
    {
     "data": {
      "text/plain": [
       "count    466256.000000\n",
       "mean        239.482430\n",
       "std          93.974829\n",
       "min        -612.000000\n",
       "25%         183.000000\n",
       "50%         225.000000\n",
       "75%         285.000000\n",
       "max         587.000000\n",
       "Name: mths_since_earliest_cr_line, dtype: float64"
      ]
     },
     "execution_count": 25,
     "metadata": {},
     "output_type": "execute_result"
    }
   ],
   "source": [
    "data['mths_since_earliest_cr_line'].describe()"
   ]
  },
  {
   "cell_type": "markdown",
   "id": "17cc3cf6-d3f3-4673-97cb-53394a43ec3b",
   "metadata": {},
   "source": [
    "Terlihat ada nilai yang aneh, yaitu negatif."
   ]
  },
  {
   "cell_type": "code",
   "execution_count": 26,
   "id": "d84de89b-00ab-40d5-8690-a78d9ef0c98d",
   "metadata": {},
   "outputs": [
    {
     "data": {
      "text/html": [
       "<div>\n",
       "<style scoped>\n",
       "    .dataframe tbody tr th:only-of-type {\n",
       "        vertical-align: middle;\n",
       "    }\n",
       "\n",
       "    .dataframe tbody tr th {\n",
       "        vertical-align: top;\n",
       "    }\n",
       "\n",
       "    .dataframe thead th {\n",
       "        text-align: right;\n",
       "    }\n",
       "</style>\n",
       "<table border=\"1\" class=\"dataframe\">\n",
       "  <thead>\n",
       "    <tr style=\"text-align: right;\">\n",
       "      <th></th>\n",
       "      <th>earliest_cr_line</th>\n",
       "      <th>earliest_cr_line_date</th>\n",
       "      <th>mths_since_earliest_cr_line</th>\n",
       "    </tr>\n",
       "  </thead>\n",
       "  <tbody>\n",
       "    <tr>\n",
       "      <th>1580</th>\n",
       "      <td>Sep-62</td>\n",
       "      <td>2062-09-01</td>\n",
       "      <td>-537.0</td>\n",
       "    </tr>\n",
       "    <tr>\n",
       "      <th>1770</th>\n",
       "      <td>Sep-68</td>\n",
       "      <td>2068-09-01</td>\n",
       "      <td>-609.0</td>\n",
       "    </tr>\n",
       "    <tr>\n",
       "      <th>2799</th>\n",
       "      <td>Sep-64</td>\n",
       "      <td>2064-09-01</td>\n",
       "      <td>-561.0</td>\n",
       "    </tr>\n",
       "  </tbody>\n",
       "</table>\n",
       "</div>"
      ],
      "text/plain": [
       "     earliest_cr_line earliest_cr_line_date  mths_since_earliest_cr_line\n",
       "1580           Sep-62            2062-09-01                       -537.0\n",
       "1770           Sep-68            2068-09-01                       -609.0\n",
       "2799           Sep-64            2064-09-01                       -561.0"
      ]
     },
     "execution_count": 26,
     "metadata": {},
     "output_type": "execute_result"
    }
   ],
   "source": [
    "data[data['mths_since_earliest_cr_line']<0][['earliest_cr_line', 'earliest_cr_line_date', 'mths_since_earliest_cr_line']].head(3)"
   ]
  },
  {
   "cell_type": "markdown",
   "id": "6a0374c3-77fa-46e3-8075-5ff6cedb7de7",
   "metadata": {},
   "source": [
    "Ternyata nilai negatif muncul karena fungsi Python salah menginterpretasikan tahun 62 menjadi tahun 2062, padahal seharusnya merupakan tahun 1962."
   ]
  },
  {
   "cell_type": "markdown",
   "id": "3d909118-1988-4bfc-8795-f6a44809b3c7",
   "metadata": {},
   "source": [
    "Untuk mengatasi hal ini, dapat dilakukan preprocessing lebih jauh jika ingin membenarkan tahun 2062 menjadi 1962. Namun, kali ini saya hanya mengubah nilai yang negatif menjadi nilai maximum dari fitur tersebut. Karena di sini saya mengetahui bahwa nilai-nilai yang negatif artinya adalah data yang sudah tua (tahun 1900an), maka masih masuk akal jika saya mengganti nilai-nilai tersebut menjadi nilai terbesar."
   ]
  },
  {
   "cell_type": "code",
   "execution_count": 27,
   "id": "3eece212-c803-4298-91db-f8f645ca5e22",
   "metadata": {},
   "outputs": [],
   "source": [
    "data.loc[data['mths_since_earliest_cr_line']<0, 'mths_since_earliest_cr_line'] = data['mths_since_earliest_cr_line'].max()"
   ]
  },
  {
   "cell_type": "code",
   "execution_count": 28,
   "id": "c834fa5d-7f28-4a3e-afa7-11bd919973c3",
   "metadata": {},
   "outputs": [],
   "source": [
    "data.drop(['earliest_cr_line', 'earliest_cr_line_date'], axis=1, inplace=True)"
   ]
  },
  {
   "cell_type": "markdown",
   "id": "f37a5e3b-480f-4c63-8e95-bb4852654c6c",
   "metadata": {
    "tags": []
   },
   "source": [
    "### issue_d"
   ]
  },
  {
   "cell_type": "markdown",
   "id": "715e5c98-bf11-46e8-902f-601d8e2eee3f",
   "metadata": {},
   "source": [
    "Konsep preprocessing yang dilakukan sama dengan yang dilakukan terhadap variabel `earliest_cr_line`"
   ]
  },
  {
   "cell_type": "code",
   "execution_count": 29,
   "id": "aa592e64-24ea-475e-b7ff-df599dc07943",
   "metadata": {},
   "outputs": [],
   "source": [
    "data['issue_d_date'] = pd.to_datetime(data['issue_d'], format='%b-%y')\n",
    "data['mths_since_issue_d'] = round(pd.to_numeric((pd.to_datetime('2017-12-01') - data['issue_d_date']) / np.timedelta64(1, 'M')))"
   ]
  },
  {
   "cell_type": "code",
   "execution_count": 30,
   "id": "c39bc522-0586-4952-9de8-d60d4b5a605d",
   "metadata": {},
   "outputs": [
    {
     "data": {
      "text/plain": [
       "count    466285.000000\n",
       "mean         51.255187\n",
       "std          14.340154\n",
       "min          36.000000\n",
       "25%          41.000000\n",
       "50%          47.000000\n",
       "75%          57.000000\n",
       "max         126.000000\n",
       "Name: mths_since_issue_d, dtype: float64"
      ]
     },
     "execution_count": 30,
     "metadata": {},
     "output_type": "execute_result"
    }
   ],
   "source": [
    "data['mths_since_issue_d'].describe()"
   ]
  },
  {
   "cell_type": "code",
   "execution_count": 31,
   "id": "2ac3f14a-0234-40e4-a069-86ce36cf6c48",
   "metadata": {},
   "outputs": [],
   "source": [
    "data.drop(['issue_d', 'issue_d_date'], axis=1, inplace=True)"
   ]
  },
  {
   "cell_type": "markdown",
   "id": "20cb8392-d204-4b9c-a7b2-ca6e69ce3b7e",
   "metadata": {
    "tags": []
   },
   "source": [
    "### last_pymnt_d"
   ]
  },
  {
   "cell_type": "markdown",
   "id": "f7cdd097-6263-45da-8bf6-dc3d2a15c2c3",
   "metadata": {},
   "source": [
    "Konsep preprocessing yang dilakukan sama dengan yang dilakukan terhadap variabel `earliest_cr_line`"
   ]
  },
  {
   "cell_type": "code",
   "execution_count": 32,
   "id": "ee5adad6-8ab8-43df-8a34-21b21effe274",
   "metadata": {},
   "outputs": [],
   "source": [
    "data['last_pymnt_d_date'] = pd.to_datetime(data['last_pymnt_d'], format='%b-%y')\n",
    "data['mths_since_last_pymnt_d'] = round(pd.to_numeric((pd.to_datetime('2017-12-01') - data['last_pymnt_d_date']) / np.timedelta64(1, 'M')))"
   ]
  },
  {
   "cell_type": "code",
   "execution_count": 33,
   "id": "6ef28e75-4263-48bc-a2f2-56d05236afd4",
   "metadata": {},
   "outputs": [
    {
     "data": {
      "text/plain": [
       "count    465909.000000\n",
       "mean         31.294369\n",
       "std          12.809898\n",
       "min          23.000000\n",
       "25%          23.000000\n",
       "50%          24.000000\n",
       "75%          35.000000\n",
       "max         120.000000\n",
       "Name: mths_since_last_pymnt_d, dtype: float64"
      ]
     },
     "execution_count": 33,
     "metadata": {},
     "output_type": "execute_result"
    }
   ],
   "source": [
    "data['mths_since_last_pymnt_d'].describe()"
   ]
  },
  {
   "cell_type": "code",
   "execution_count": 34,
   "id": "0a6c53d6-0659-4e2b-b643-6ae7531f87e6",
   "metadata": {},
   "outputs": [],
   "source": [
    "data.drop(['last_pymnt_d', 'last_pymnt_d_date'], axis=1, inplace=True)"
   ]
  },
  {
   "cell_type": "markdown",
   "id": "f79cfb76-cf00-4c9a-9516-f27f6a2886bf",
   "metadata": {
    "tags": []
   },
   "source": [
    "### next_pymnt_d"
   ]
  },
  {
   "cell_type": "markdown",
   "id": "b9590ea1-c59c-4c9e-a7b6-842cd7746bbe",
   "metadata": {},
   "source": [
    "Konsep preprocessing yang dilakukan sama dengan yang dilakukan terhadap variabel `earliest_cr_line`"
   ]
  },
  {
   "cell_type": "code",
   "execution_count": 35,
   "id": "e6cf8d29-edc9-42af-b837-6fa1d4eb5519",
   "metadata": {},
   "outputs": [],
   "source": [
    "data['next_pymnt_d_date'] = pd.to_datetime(data['next_pymnt_d'], format='%b-%y')\n",
    "data['mths_since_next_pymnt_d'] = round(pd.to_numeric((pd.to_datetime('2017-12-01') - data['next_pymnt_d_date']) / np.timedelta64(1, 'M')))"
   ]
  },
  {
   "cell_type": "code",
   "execution_count": 36,
   "id": "78b1654d-25b1-4d84-9fbb-4ba6ee77f9e9",
   "metadata": {},
   "outputs": [
    {
     "data": {
      "text/plain": [
       "count    239071.000000\n",
       "mean         22.738136\n",
       "std           6.082298\n",
       "min          21.000000\n",
       "25%          22.000000\n",
       "50%          22.000000\n",
       "75%          22.000000\n",
       "max         120.000000\n",
       "Name: mths_since_next_pymnt_d, dtype: float64"
      ]
     },
     "execution_count": 36,
     "metadata": {},
     "output_type": "execute_result"
    }
   ],
   "source": [
    "data['mths_since_next_pymnt_d'].describe()"
   ]
  },
  {
   "cell_type": "code",
   "execution_count": 37,
   "id": "43b09dc7-2c7f-499d-8c9c-499252754bd4",
   "metadata": {},
   "outputs": [],
   "source": [
    "data.drop(['next_pymnt_d', 'next_pymnt_d_date'], axis=1, inplace=True)"
   ]
  },
  {
   "cell_type": "markdown",
   "id": "a1af0a43-71e2-4b08-9ad3-7f8cf394b1d0",
   "metadata": {
    "tags": []
   },
   "source": [
    "### last_credit_pull_d"
   ]
  },
  {
   "cell_type": "markdown",
   "id": "b20d2cb6-570a-4055-9c0d-5c8313f3289b",
   "metadata": {},
   "source": [
    "Konsep preprocessing yang dilakukan sama dengan yang dilakukan terhadap variabel `earliest_cr_line`"
   ]
  },
  {
   "cell_type": "code",
   "execution_count": 38,
   "id": "19581450-4d1a-4ca6-9c5b-08cd3b730b84",
   "metadata": {},
   "outputs": [],
   "source": [
    "data['last_credit_pull_d_date'] = pd.to_datetime(data['last_credit_pull_d'], format='%b-%y')\n",
    "data['mths_since_last_credit_pull_d'] = round(pd.to_numeric((pd.to_datetime('2017-12-01') - data['last_credit_pull_d_date']) / np.timedelta64(1, 'M')))"
   ]
  },
  {
   "cell_type": "code",
   "execution_count": 39,
   "id": "cb959846-54bf-4ec3-8160-b6b35b6bc093",
   "metadata": {},
   "outputs": [
    {
     "data": {
      "text/plain": [
       "count    466243.000000\n",
       "mean         27.045588\n",
       "std           9.636423\n",
       "min          23.000000\n",
       "25%          23.000000\n",
       "50%          23.000000\n",
       "75%          25.000000\n",
       "max         127.000000\n",
       "Name: mths_since_last_credit_pull_d, dtype: float64"
      ]
     },
     "execution_count": 39,
     "metadata": {},
     "output_type": "execute_result"
    }
   ],
   "source": [
    "data['mths_since_last_credit_pull_d'].describe()"
   ]
  },
  {
   "cell_type": "code",
   "execution_count": 40,
   "id": "58a28346-0b6d-4b5f-acc6-3f8bf8ca3395",
   "metadata": {},
   "outputs": [],
   "source": [
    "data.drop(['last_credit_pull_d', 'last_credit_pull_d_date'], axis=1, inplace=True)"
   ]
  },
  {
   "cell_type": "code",
   "execution_count": 41,
   "id": "431b7c9c-bbe7-4d12-989f-e76e3fc5c1a8",
   "metadata": {},
   "outputs": [
    {
     "data": {
      "text/html": [
       "<div>\n",
       "<style scoped>\n",
       "    .dataframe tbody tr th:only-of-type {\n",
       "        vertical-align: middle;\n",
       "    }\n",
       "\n",
       "    .dataframe tbody tr th {\n",
       "        vertical-align: top;\n",
       "    }\n",
       "\n",
       "    .dataframe thead th {\n",
       "        text-align: right;\n",
       "    }\n",
       "</style>\n",
       "<table border=\"1\" class=\"dataframe\">\n",
       "  <thead>\n",
       "    <tr style=\"text-align: right;\">\n",
       "      <th></th>\n",
       "      <th>loan_amnt</th>\n",
       "      <th>funded_amnt</th>\n",
       "      <th>funded_amnt_inv</th>\n",
       "      <th>int_rate</th>\n",
       "      <th>installment</th>\n",
       "      <th>grade</th>\n",
       "      <th>emp_title</th>\n",
       "      <th>home_ownership</th>\n",
       "      <th>annual_inc</th>\n",
       "      <th>verification_status</th>\n",
       "      <th>pymnt_plan</th>\n",
       "      <th>purpose</th>\n",
       "      <th>title</th>\n",
       "      <th>addr_state</th>\n",
       "      <th>dti</th>\n",
       "      <th>delinq_2yrs</th>\n",
       "      <th>inq_last_6mths</th>\n",
       "      <th>mths_since_last_delinq</th>\n",
       "      <th>mths_since_last_record</th>\n",
       "      <th>open_acc</th>\n",
       "      <th>pub_rec</th>\n",
       "      <th>revol_bal</th>\n",
       "      <th>revol_util</th>\n",
       "      <th>total_acc</th>\n",
       "      <th>initial_list_status</th>\n",
       "      <th>out_prncp</th>\n",
       "      <th>out_prncp_inv</th>\n",
       "      <th>total_pymnt</th>\n",
       "      <th>total_pymnt_inv</th>\n",
       "      <th>total_rec_prncp</th>\n",
       "      <th>total_rec_int</th>\n",
       "      <th>total_rec_late_fee</th>\n",
       "      <th>recoveries</th>\n",
       "      <th>collection_recovery_fee</th>\n",
       "      <th>last_pymnt_amnt</th>\n",
       "      <th>collections_12_mths_ex_med</th>\n",
       "      <th>mths_since_last_major_derog</th>\n",
       "      <th>policy_code</th>\n",
       "      <th>application_type</th>\n",
       "      <th>acc_now_delinq</th>\n",
       "      <th>tot_coll_amt</th>\n",
       "      <th>tot_cur_bal</th>\n",
       "      <th>total_rev_hi_lim</th>\n",
       "      <th>bad_flag</th>\n",
       "      <th>emp_length_int</th>\n",
       "      <th>term_int</th>\n",
       "      <th>mths_since_earliest_cr_line</th>\n",
       "      <th>mths_since_issue_d</th>\n",
       "      <th>mths_since_last_pymnt_d</th>\n",
       "      <th>mths_since_next_pymnt_d</th>\n",
       "      <th>mths_since_last_credit_pull_d</th>\n",
       "    </tr>\n",
       "  </thead>\n",
       "  <tbody>\n",
       "    <tr>\n",
       "      <th>0</th>\n",
       "      <td>5000</td>\n",
       "      <td>5000</td>\n",
       "      <td>4975.0</td>\n",
       "      <td>10.65</td>\n",
       "      <td>162.87</td>\n",
       "      <td>B</td>\n",
       "      <td>NaN</td>\n",
       "      <td>RENT</td>\n",
       "      <td>24000.0</td>\n",
       "      <td>Verified</td>\n",
       "      <td>n</td>\n",
       "      <td>credit_card</td>\n",
       "      <td>Computer</td>\n",
       "      <td>AZ</td>\n",
       "      <td>27.65</td>\n",
       "      <td>0.0</td>\n",
       "      <td>1.0</td>\n",
       "      <td>NaN</td>\n",
       "      <td>NaN</td>\n",
       "      <td>3.0</td>\n",
       "      <td>0.0</td>\n",
       "      <td>13648</td>\n",
       "      <td>83.7</td>\n",
       "      <td>9.0</td>\n",
       "      <td>f</td>\n",
       "      <td>0.0</td>\n",
       "      <td>0.0</td>\n",
       "      <td>5861.071414</td>\n",
       "      <td>5831.78</td>\n",
       "      <td>5000.00</td>\n",
       "      <td>861.07</td>\n",
       "      <td>0.00</td>\n",
       "      <td>0.00</td>\n",
       "      <td>0.00</td>\n",
       "      <td>171.62</td>\n",
       "      <td>0.0</td>\n",
       "      <td>NaN</td>\n",
       "      <td>1</td>\n",
       "      <td>INDIVIDUAL</td>\n",
       "      <td>0.0</td>\n",
       "      <td>NaN</td>\n",
       "      <td>NaN</td>\n",
       "      <td>NaN</td>\n",
       "      <td>0</td>\n",
       "      <td>10.0</td>\n",
       "      <td>36.0</td>\n",
       "      <td>395.0</td>\n",
       "      <td>72.0</td>\n",
       "      <td>35.0</td>\n",
       "      <td>NaN</td>\n",
       "      <td>23.0</td>\n",
       "    </tr>\n",
       "    <tr>\n",
       "      <th>1</th>\n",
       "      <td>2500</td>\n",
       "      <td>2500</td>\n",
       "      <td>2500.0</td>\n",
       "      <td>15.27</td>\n",
       "      <td>59.83</td>\n",
       "      <td>C</td>\n",
       "      <td>Ryder</td>\n",
       "      <td>RENT</td>\n",
       "      <td>30000.0</td>\n",
       "      <td>Source Verified</td>\n",
       "      <td>n</td>\n",
       "      <td>car</td>\n",
       "      <td>bike</td>\n",
       "      <td>GA</td>\n",
       "      <td>1.00</td>\n",
       "      <td>0.0</td>\n",
       "      <td>5.0</td>\n",
       "      <td>NaN</td>\n",
       "      <td>NaN</td>\n",
       "      <td>3.0</td>\n",
       "      <td>0.0</td>\n",
       "      <td>1687</td>\n",
       "      <td>9.4</td>\n",
       "      <td>4.0</td>\n",
       "      <td>f</td>\n",
       "      <td>0.0</td>\n",
       "      <td>0.0</td>\n",
       "      <td>1008.710000</td>\n",
       "      <td>1008.71</td>\n",
       "      <td>456.46</td>\n",
       "      <td>435.17</td>\n",
       "      <td>0.00</td>\n",
       "      <td>117.08</td>\n",
       "      <td>1.11</td>\n",
       "      <td>119.66</td>\n",
       "      <td>0.0</td>\n",
       "      <td>NaN</td>\n",
       "      <td>1</td>\n",
       "      <td>INDIVIDUAL</td>\n",
       "      <td>0.0</td>\n",
       "      <td>NaN</td>\n",
       "      <td>NaN</td>\n",
       "      <td>NaN</td>\n",
       "      <td>1</td>\n",
       "      <td>0.0</td>\n",
       "      <td>60.0</td>\n",
       "      <td>224.0</td>\n",
       "      <td>72.0</td>\n",
       "      <td>56.0</td>\n",
       "      <td>NaN</td>\n",
       "      <td>51.0</td>\n",
       "    </tr>\n",
       "    <tr>\n",
       "      <th>2</th>\n",
       "      <td>2400</td>\n",
       "      <td>2400</td>\n",
       "      <td>2400.0</td>\n",
       "      <td>15.96</td>\n",
       "      <td>84.33</td>\n",
       "      <td>C</td>\n",
       "      <td>NaN</td>\n",
       "      <td>RENT</td>\n",
       "      <td>12252.0</td>\n",
       "      <td>Not Verified</td>\n",
       "      <td>n</td>\n",
       "      <td>small_business</td>\n",
       "      <td>real estate business</td>\n",
       "      <td>IL</td>\n",
       "      <td>8.72</td>\n",
       "      <td>0.0</td>\n",
       "      <td>2.0</td>\n",
       "      <td>NaN</td>\n",
       "      <td>NaN</td>\n",
       "      <td>2.0</td>\n",
       "      <td>0.0</td>\n",
       "      <td>2956</td>\n",
       "      <td>98.5</td>\n",
       "      <td>10.0</td>\n",
       "      <td>f</td>\n",
       "      <td>0.0</td>\n",
       "      <td>0.0</td>\n",
       "      <td>3003.653644</td>\n",
       "      <td>3003.65</td>\n",
       "      <td>2400.00</td>\n",
       "      <td>603.65</td>\n",
       "      <td>0.00</td>\n",
       "      <td>0.00</td>\n",
       "      <td>0.00</td>\n",
       "      <td>649.91</td>\n",
       "      <td>0.0</td>\n",
       "      <td>NaN</td>\n",
       "      <td>1</td>\n",
       "      <td>INDIVIDUAL</td>\n",
       "      <td>0.0</td>\n",
       "      <td>NaN</td>\n",
       "      <td>NaN</td>\n",
       "      <td>NaN</td>\n",
       "      <td>0</td>\n",
       "      <td>10.0</td>\n",
       "      <td>36.0</td>\n",
       "      <td>193.0</td>\n",
       "      <td>72.0</td>\n",
       "      <td>42.0</td>\n",
       "      <td>NaN</td>\n",
       "      <td>23.0</td>\n",
       "    </tr>\n",
       "    <tr>\n",
       "      <th>3</th>\n",
       "      <td>10000</td>\n",
       "      <td>10000</td>\n",
       "      <td>10000.0</td>\n",
       "      <td>13.49</td>\n",
       "      <td>339.31</td>\n",
       "      <td>C</td>\n",
       "      <td>AIR RESOURCES BOARD</td>\n",
       "      <td>RENT</td>\n",
       "      <td>49200.0</td>\n",
       "      <td>Source Verified</td>\n",
       "      <td>n</td>\n",
       "      <td>other</td>\n",
       "      <td>personel</td>\n",
       "      <td>CA</td>\n",
       "      <td>20.00</td>\n",
       "      <td>0.0</td>\n",
       "      <td>1.0</td>\n",
       "      <td>35.0</td>\n",
       "      <td>NaN</td>\n",
       "      <td>10.0</td>\n",
       "      <td>0.0</td>\n",
       "      <td>5598</td>\n",
       "      <td>21.0</td>\n",
       "      <td>37.0</td>\n",
       "      <td>f</td>\n",
       "      <td>0.0</td>\n",
       "      <td>0.0</td>\n",
       "      <td>12226.302210</td>\n",
       "      <td>12226.30</td>\n",
       "      <td>10000.00</td>\n",
       "      <td>2209.33</td>\n",
       "      <td>16.97</td>\n",
       "      <td>0.00</td>\n",
       "      <td>0.00</td>\n",
       "      <td>357.48</td>\n",
       "      <td>0.0</td>\n",
       "      <td>NaN</td>\n",
       "      <td>1</td>\n",
       "      <td>INDIVIDUAL</td>\n",
       "      <td>0.0</td>\n",
       "      <td>NaN</td>\n",
       "      <td>NaN</td>\n",
       "      <td>NaN</td>\n",
       "      <td>0</td>\n",
       "      <td>10.0</td>\n",
       "      <td>36.0</td>\n",
       "      <td>262.0</td>\n",
       "      <td>72.0</td>\n",
       "      <td>35.0</td>\n",
       "      <td>NaN</td>\n",
       "      <td>35.0</td>\n",
       "    </tr>\n",
       "    <tr>\n",
       "      <th>4</th>\n",
       "      <td>3000</td>\n",
       "      <td>3000</td>\n",
       "      <td>3000.0</td>\n",
       "      <td>12.69</td>\n",
       "      <td>67.79</td>\n",
       "      <td>B</td>\n",
       "      <td>University Medical Group</td>\n",
       "      <td>RENT</td>\n",
       "      <td>80000.0</td>\n",
       "      <td>Source Verified</td>\n",
       "      <td>n</td>\n",
       "      <td>other</td>\n",
       "      <td>Personal</td>\n",
       "      <td>OR</td>\n",
       "      <td>17.94</td>\n",
       "      <td>0.0</td>\n",
       "      <td>0.0</td>\n",
       "      <td>38.0</td>\n",
       "      <td>NaN</td>\n",
       "      <td>15.0</td>\n",
       "      <td>0.0</td>\n",
       "      <td>27783</td>\n",
       "      <td>53.9</td>\n",
       "      <td>38.0</td>\n",
       "      <td>f</td>\n",
       "      <td>766.9</td>\n",
       "      <td>766.9</td>\n",
       "      <td>3242.170000</td>\n",
       "      <td>3242.17</td>\n",
       "      <td>2233.10</td>\n",
       "      <td>1009.07</td>\n",
       "      <td>0.00</td>\n",
       "      <td>0.00</td>\n",
       "      <td>0.00</td>\n",
       "      <td>67.79</td>\n",
       "      <td>0.0</td>\n",
       "      <td>NaN</td>\n",
       "      <td>1</td>\n",
       "      <td>INDIVIDUAL</td>\n",
       "      <td>0.0</td>\n",
       "      <td>NaN</td>\n",
       "      <td>NaN</td>\n",
       "      <td>NaN</td>\n",
       "      <td>0</td>\n",
       "      <td>1.0</td>\n",
       "      <td>60.0</td>\n",
       "      <td>263.0</td>\n",
       "      <td>72.0</td>\n",
       "      <td>23.0</td>\n",
       "      <td>22.0</td>\n",
       "      <td>23.0</td>\n",
       "    </tr>\n",
       "  </tbody>\n",
       "</table>\n",
       "</div>"
      ],
      "text/plain": [
       "   loan_amnt  funded_amnt  funded_amnt_inv  int_rate  installment grade  \\\n",
       "0       5000         5000           4975.0     10.65       162.87     B   \n",
       "1       2500         2500           2500.0     15.27        59.83     C   \n",
       "2       2400         2400           2400.0     15.96        84.33     C   \n",
       "3      10000        10000          10000.0     13.49       339.31     C   \n",
       "4       3000         3000           3000.0     12.69        67.79     B   \n",
       "\n",
       "                  emp_title home_ownership  annual_inc verification_status  \\\n",
       "0                       NaN           RENT     24000.0            Verified   \n",
       "1                     Ryder           RENT     30000.0     Source Verified   \n",
       "2                       NaN           RENT     12252.0        Not Verified   \n",
       "3       AIR RESOURCES BOARD           RENT     49200.0     Source Verified   \n",
       "4  University Medical Group           RENT     80000.0     Source Verified   \n",
       "\n",
       "  pymnt_plan         purpose                 title addr_state    dti  \\\n",
       "0          n     credit_card              Computer         AZ  27.65   \n",
       "1          n             car                  bike         GA   1.00   \n",
       "2          n  small_business  real estate business         IL   8.72   \n",
       "3          n           other              personel         CA  20.00   \n",
       "4          n           other              Personal         OR  17.94   \n",
       "\n",
       "   delinq_2yrs  inq_last_6mths  mths_since_last_delinq  \\\n",
       "0          0.0             1.0                     NaN   \n",
       "1          0.0             5.0                     NaN   \n",
       "2          0.0             2.0                     NaN   \n",
       "3          0.0             1.0                    35.0   \n",
       "4          0.0             0.0                    38.0   \n",
       "\n",
       "   mths_since_last_record  open_acc  pub_rec  revol_bal  revol_util  \\\n",
       "0                     NaN       3.0      0.0      13648        83.7   \n",
       "1                     NaN       3.0      0.0       1687         9.4   \n",
       "2                     NaN       2.0      0.0       2956        98.5   \n",
       "3                     NaN      10.0      0.0       5598        21.0   \n",
       "4                     NaN      15.0      0.0      27783        53.9   \n",
       "\n",
       "   total_acc initial_list_status  out_prncp  out_prncp_inv   total_pymnt  \\\n",
       "0        9.0                   f        0.0            0.0   5861.071414   \n",
       "1        4.0                   f        0.0            0.0   1008.710000   \n",
       "2       10.0                   f        0.0            0.0   3003.653644   \n",
       "3       37.0                   f        0.0            0.0  12226.302210   \n",
       "4       38.0                   f      766.9          766.9   3242.170000   \n",
       "\n",
       "   total_pymnt_inv  total_rec_prncp  total_rec_int  total_rec_late_fee  \\\n",
       "0          5831.78          5000.00         861.07                0.00   \n",
       "1          1008.71           456.46         435.17                0.00   \n",
       "2          3003.65          2400.00         603.65                0.00   \n",
       "3         12226.30         10000.00        2209.33               16.97   \n",
       "4          3242.17          2233.10        1009.07                0.00   \n",
       "\n",
       "   recoveries  collection_recovery_fee  last_pymnt_amnt  \\\n",
       "0        0.00                     0.00           171.62   \n",
       "1      117.08                     1.11           119.66   \n",
       "2        0.00                     0.00           649.91   \n",
       "3        0.00                     0.00           357.48   \n",
       "4        0.00                     0.00            67.79   \n",
       "\n",
       "   collections_12_mths_ex_med  mths_since_last_major_derog  policy_code  \\\n",
       "0                         0.0                          NaN            1   \n",
       "1                         0.0                          NaN            1   \n",
       "2                         0.0                          NaN            1   \n",
       "3                         0.0                          NaN            1   \n",
       "4                         0.0                          NaN            1   \n",
       "\n",
       "  application_type  acc_now_delinq  tot_coll_amt  tot_cur_bal  \\\n",
       "0       INDIVIDUAL             0.0           NaN          NaN   \n",
       "1       INDIVIDUAL             0.0           NaN          NaN   \n",
       "2       INDIVIDUAL             0.0           NaN          NaN   \n",
       "3       INDIVIDUAL             0.0           NaN          NaN   \n",
       "4       INDIVIDUAL             0.0           NaN          NaN   \n",
       "\n",
       "   total_rev_hi_lim  bad_flag  emp_length_int  term_int  \\\n",
       "0               NaN         0            10.0      36.0   \n",
       "1               NaN         1             0.0      60.0   \n",
       "2               NaN         0            10.0      36.0   \n",
       "3               NaN         0            10.0      36.0   \n",
       "4               NaN         0             1.0      60.0   \n",
       "\n",
       "   mths_since_earliest_cr_line  mths_since_issue_d  mths_since_last_pymnt_d  \\\n",
       "0                        395.0                72.0                     35.0   \n",
       "1                        224.0                72.0                     56.0   \n",
       "2                        193.0                72.0                     42.0   \n",
       "3                        262.0                72.0                     35.0   \n",
       "4                        263.0                72.0                     23.0   \n",
       "\n",
       "   mths_since_next_pymnt_d  mths_since_last_credit_pull_d  \n",
       "0                      NaN                           23.0  \n",
       "1                      NaN                           51.0  \n",
       "2                      NaN                           23.0  \n",
       "3                      NaN                           35.0  \n",
       "4                     22.0                           23.0  "
      ]
     },
     "execution_count": 41,
     "metadata": {},
     "output_type": "execute_result"
    }
   ],
   "source": [
    "data.head()"
   ]
  },
  {
   "cell_type": "markdown",
   "id": "202362f6-3d5f-4e72-a795-b3d145416277",
   "metadata": {
    "tags": []
   },
   "source": [
    "# EXPLORATORY DATA ANALYSIS"
   ]
  },
  {
   "cell_type": "markdown",
   "id": "12051edb-e20a-4a79-92d6-e7622a07ac18",
   "metadata": {},
   "source": [
    "## Bivariate Analysis"
   ]
  },
  {
   "cell_type": "code",
   "execution_count": 42,
   "id": "7060b572-0689-4f46-b68e-5b80e2f4db5d",
   "metadata": {},
   "outputs": [
    {
     "data": {
      "image/png": "[encoded data removed]",
      "text/plain": [
       "<Figure size 432x288 with 1 Axes>"
      ]
     },
     "metadata": {},
     "output_type": "display_data"
    }
   ],
   "source": [
    "ax = sns.countplot(x=\"grade\", hue=\"bad_flag\", data=data)"
   ]
  },
  {
   "cell_type": "code",
   "execution_count": 43,
   "id": "e0405e2d-a69f-4372-be23-b0b1787866a2",
   "metadata": {},
   "outputs": [
    {
     "data": {
      "image/png": "[encoded data removed]",
      "text/plain": [
       "<Figure size 432x288 with 1 Axes>"
      ]
     },
     "metadata": {},
     "output_type": "display_data"
    }
   ],
   "source": [
    "ax = sns.countplot(x=\"home_ownership\", hue=\"bad_flag\", data=data)"
   ]
  },
  {
   "cell_type": "code",
   "execution_count": 44,
   "id": "a53592c1-396f-4245-8d9c-3e811158922d",
   "metadata": {},
   "outputs": [
    {
     "data": {
      "image/png": "[encoded data removed]",
      "text/plain": [
       "<Figure size 432x288 with 1 Axes>"
      ]
     },
     "metadata": {},
     "output_type": "display_data"
    }
   ],
   "source": [
    "ax = sns.countplot(x=\"verification_status\", hue=\"bad_flag\", data=data)"
   ]
  },
  {
   "cell_type": "code",
   "execution_count": 45,
   "id": "2feeb27b-77d5-490e-a33a-e2e8105d7231",
   "metadata": {},
   "outputs": [
    {
     "data": {
      "image/png": "[encoded data removed]",
      "text/plain": [
       "<Figure size 432x288 with 1 Axes>"
      ]
     },
     "metadata": {},
     "output_type": "display_data"
    }
   ],
   "source": [
    "ax = sns.countplot(x=\"term_int\", hue=\"bad_flag\", data=data)"
   ]
  },
  {
   "cell_type": "markdown",
   "id": "f35f6fc5-19b4-47b5-83c6-410a296a3561",
   "metadata": {},
   "source": [
    "### Correlation Check"
   ]
  },
  {
   "cell_type": "code",
   "execution_count": 46,
   "id": "d13dd53d-fdbf-4a55-b2c3-9c175e027a32",
   "metadata": {},
   "outputs": [
    {
     "data": {
      "text/plain": [
       "<AxesSubplot:>"
      ]
     },
     "execution_count": 46,
     "metadata": {},
     "output_type": "execute_result"
    },
    {
     "data": {
      "image/png": "[encoded data removed]",
      "text/plain": [
       "<Figure size 1440x1440 with 2 Axes>"
      ]
     },
     "metadata": {},
     "output_type": "display_data"
    }
   ],
   "source": [
    "plt.figure(figsize=(20,20))\n",
    "sns.heatmap(data.corr())"
   ]
  },
  {
   "cell_type": "markdown",
   "id": "79ee2ff5-f2a5-4ab1-b286-5bcca623bb2b",
   "metadata": {},
   "source": [
    "Di sini, jika ada pasangan fitur-fitur yang memiliki korelasi tinggi maka akan diambil salah satu saja. Nilai korelasi yang dijadikan patokan sebagai korelasi tinggi tidak pasti, umumnya digunakan angka 0.7."
   ]
  },
  {
   "cell_type": "code",
   "execution_count": 47,
   "id": "c0dc104b-10be-425f-a192-7ed77ef73805",
   "metadata": {},
   "outputs": [
    {
     "name": "stderr",
     "output_type": "stream",
     "text": [
      "C:\\Users\\user\\AppData\\Local\\Temp\\ipykernel_13780\\1624107534.py:2: DeprecationWarning: `np.bool` is a deprecated alias for the builtin `bool`. To silence this warning, use `bool` by itself. Doing this will not modify any behavior and is safe. If you specifically wanted the numpy scalar type, use `np.bool_` here.\n",
      "Deprecated in NumPy 1.20; for more details and guidance: https://numpy.org/devdocs/release/1.20.0-notes.html#deprecations\n",
      "  upper = corr_matrix.where(np.triu(np.ones(corr_matrix.shape), k=1).astype(np.bool))\n"
     ]
    }
   ],
   "source": [
    "corr_matrix = data.corr().abs()\n",
    "upper = corr_matrix.where(np.triu(np.ones(corr_matrix.shape), k=1).astype(np.bool))\n",
    "to_drop_hicorr = [column for column in upper.columns if any(upper[column] > 0.7)]"
   ]
  },
  {
   "cell_type": "code",
   "execution_count": 48,
   "id": "e113849b-e0fb-4b08-8d26-68d5436d2480",
   "metadata": {},
   "outputs": [
    {
     "data": {
      "text/plain": [
       "['funded_amnt',\n",
       " 'funded_amnt_inv',\n",
       " 'installment',\n",
       " 'out_prncp_inv',\n",
       " 'total_pymnt',\n",
       " 'total_pymnt_inv',\n",
       " 'total_rec_prncp',\n",
       " 'total_rec_int',\n",
       " 'collection_recovery_fee',\n",
       " 'last_pymnt_amnt',\n",
       " 'mths_since_last_major_derog',\n",
       " 'total_rev_hi_lim',\n",
       " 'mths_since_last_pymnt_d',\n",
       " 'mths_since_next_pymnt_d',\n",
       " 'mths_since_last_credit_pull_d']"
      ]
     },
     "execution_count": 48,
     "metadata": {},
     "output_type": "execute_result"
    }
   ],
   "source": [
    "to_drop_hicorr"
   ]
  },
  {
   "cell_type": "code",
   "execution_count": 49,
   "id": "b150ab38-812e-468b-aa67-99d39a9a3fbb",
   "metadata": {},
   "outputs": [],
   "source": [
    "data.drop(to_drop_hicorr, axis=1, inplace=True)"
   ]
  },
  {
   "cell_type": "markdown",
   "id": "6bb5b4b0-bab4-400d-b3ce-464273308583",
   "metadata": {},
   "source": [
    "### Check Categorical Features"
   ]
  },
  {
   "cell_type": "code",
   "execution_count": 50,
   "id": "1652040d-321a-46b2-890a-c1a44cb8417f",
   "metadata": {},
   "outputs": [
    {
     "data": {
      "text/plain": [
       "grade                       7\n",
       "emp_title              205475\n",
       "home_ownership              6\n",
       "verification_status         3\n",
       "pymnt_plan                  2\n",
       "purpose                    14\n",
       "title                   63099\n",
       "addr_state                 50\n",
       "initial_list_status         2\n",
       "application_type            1\n",
       "dtype: int64"
      ]
     },
     "execution_count": 50,
     "metadata": {},
     "output_type": "execute_result"
    }
   ],
   "source": [
    "data.select_dtypes(include='object').nunique()"
   ]
  },
  {
   "cell_type": "markdown",
   "id": "6666c857-7105-4038-a02d-0e930aba210f",
   "metadata": {},
   "source": [
    "Pada tahap ini dilakukan pembuangan fitur yang memiliki nilai unik yang sangat tinggi (high cardinality) dan fitur yang hanya memiliki satu nilai unik saja."
   ]
  },
  {
   "cell_type": "code",
   "execution_count": 51,
   "id": "db7d858a-8b92-4f2b-bfb5-534161faeda0",
   "metadata": {},
   "outputs": [],
   "source": [
    "data.drop(['emp_title', 'title', 'application_type'], axis=1, inplace=True)"
   ]
  },
  {
   "cell_type": "code",
   "execution_count": 52,
   "id": "c8d4b6e7-40d3-4558-9136-bf2ed6eba493",
   "metadata": {},
   "outputs": [
    {
     "data": {
      "text/plain": [
       "loan_amnt                        1352\n",
       "int_rate                          506\n",
       "annual_inc                      31901\n",
       "dti                              3997\n",
       "delinq_2yrs                        24\n",
       "inq_last_6mths                     28\n",
       "mths_since_last_delinq            145\n",
       "mths_since_last_record            123\n",
       "open_acc                           62\n",
       "pub_rec                            26\n",
       "revol_bal                       58142\n",
       "revol_util                       1269\n",
       "total_acc                         112\n",
       "out_prncp                      135665\n",
       "total_rec_late_fee               5808\n",
       "recoveries                      22773\n",
       "collections_12_mths_ex_med          9\n",
       "policy_code                         1\n",
       "acc_now_delinq                      6\n",
       "tot_coll_amt                     6321\n",
       "tot_cur_bal                    220690\n",
       "bad_flag                            2\n",
       "emp_length_int                     11\n",
       "term_int                            2\n",
       "mths_since_earliest_cr_line       515\n",
       "mths_since_issue_d                 91\n",
       "dtype: int64"
      ]
     },
     "execution_count": 52,
     "metadata": {},
     "output_type": "execute_result"
    }
   ],
   "source": [
    "data.select_dtypes(exclude='object').nunique()"
   ]
  },
  {
   "cell_type": "markdown",
   "id": "ed85b594-0a47-4fb4-9f07-9e7a3a530709",
   "metadata": {},
   "source": [
    "Ternyata, pada tipe data selain `object` juga terdapat fitur yang hanya memiliki satu nilai unik saja, maka akan ikut dibuang juga."
   ]
  },
  {
   "cell_type": "code",
   "execution_count": 53,
   "id": "0554d26d-dec2-40fd-8eae-b58ecc295a20",
   "metadata": {},
   "outputs": [],
   "source": [
    "data.drop(['policy_code'], axis=1, inplace=True)"
   ]
  },
  {
   "cell_type": "code",
   "execution_count": 54,
   "id": "dcb23327-e01d-49e2-99ed-8ddf1a59b554",
   "metadata": {
    "tags": []
   },
   "outputs": [
    {
     "name": "stdout",
     "output_type": "stream",
     "text": [
      "B    29.365946\n",
      "C    26.870476\n",
      "D    16.489486\n",
      "A    16.056060\n",
      "E     7.668486\n",
      "F     2.837106\n",
      "G     0.712440\n",
      "Name: grade, dtype: float64\n",
      "\n",
      "\n",
      "MORTGAGE    50.586015\n",
      "RENT        40.420129\n",
      "OWN          8.943886\n",
      "OTHER        0.039032\n",
      "NONE         0.010723\n",
      "ANY          0.000214\n",
      "Name: home_ownership, dtype: float64\n",
      "\n",
      "\n",
      "Verified           36.041262\n",
      "Source Verified    32.167666\n",
      "Not Verified       31.791072\n",
      "Name: verification_status, dtype: float64\n",
      "\n",
      "\n",
      "n    99.99807\n",
      "y     0.00193\n",
      "Name: pymnt_plan, dtype: float64\n",
      "\n",
      "\n",
      "debt_consolidation    58.804165\n",
      "credit_card           22.337626\n",
      "home_improvement       5.691155\n",
      "other                  5.080584\n",
      "major_purchase         2.107724\n",
      "small_business         1.504016\n",
      "car                    1.157447\n",
      "medical                0.986950\n",
      "moving                 0.642097\n",
      "vacation               0.533365\n",
      "wedding                0.502482\n",
      "house                  0.486612\n",
      "educational            0.090503\n",
      "renewable_energy       0.075276\n",
      "Name: purpose, dtype: float64\n",
      "\n",
      "\n",
      "CA    15.323247\n",
      "NY     8.630344\n",
      "TX     7.814748\n",
      "FL     6.784906\n",
      "IL     3.991550\n",
      "NJ     3.873382\n",
      "PA     3.522309\n",
      "OH     3.267744\n",
      "GA     3.211555\n",
      "VA     3.050066\n",
      "NC     2.719796\n",
      "MI     2.476811\n",
      "MA     2.374513\n",
      "MD     2.353496\n",
      "AZ     2.297307\n",
      "WA     2.255488\n",
      "CO     2.088637\n",
      "MN     1.749574\n",
      "MO     1.610174\n",
      "CT     1.544978\n",
      "IN     1.399359\n",
      "NV     1.398072\n",
      "TN     1.283335\n",
      "OR     1.275829\n",
      "WI     1.267680\n",
      "AL     1.255241\n",
      "SC     1.197336\n",
      "LA     1.177177\n",
      "KY     0.951778\n",
      "KS     0.898592\n",
      "OK     0.882936\n",
      "AR     0.748040\n",
      "UT     0.735173\n",
      "NM     0.555025\n",
      "HI     0.533365\n",
      "WV     0.517280\n",
      "NH     0.478677\n",
      "RI     0.439645\n",
      "DC     0.305822\n",
      "MT     0.299388\n",
      "DE     0.272795\n",
      "AK     0.268291\n",
      "MS     0.262929\n",
      "WY     0.241912\n",
      "SD     0.210172\n",
      "VT     0.194087\n",
      "IA     0.003002\n",
      "NE     0.003002\n",
      "ID     0.002574\n",
      "ME     0.000858\n",
      "Name: addr_state, dtype: float64\n",
      "\n",
      "\n",
      "f    64.982789\n",
      "w    35.017211\n",
      "Name: initial_list_status, dtype: float64\n",
      "\n",
      "\n"
     ]
    }
   ],
   "source": [
    "for col in data.select_dtypes(include='object').columns.tolist():\n",
    "    print(data[col].value_counts(normalize=True)*100)\n",
    "    print('\\n')"
   ]
  },
  {
   "cell_type": "markdown",
   "id": "69075c25-4d3e-486a-9120-b453a67e6894",
   "metadata": {},
   "source": [
    "Fitur yang sangat didominasi oleh salah satu nilai saja akan dibuang pada tahap ini."
   ]
  },
  {
   "cell_type": "code",
   "execution_count": 55,
   "id": "d01b0ed0-2223-4cd6-a7d4-b4ad40373c31",
   "metadata": {},
   "outputs": [],
   "source": [
    "data.drop('pymnt_plan', axis=1, inplace=True)"
   ]
  },
  {
   "cell_type": "markdown",
   "id": "8483ce96-e8bc-4dd4-b247-d58b1d269442",
   "metadata": {
    "tags": []
   },
   "source": [
    "# MISSING VALUES"
   ]
  },
  {
   "cell_type": "markdown",
   "id": "1101903e-08e6-4d64-8b5e-89977b5b9131",
   "metadata": {},
   "source": [
    "### Missing Value Checking"
   ]
  },
  {
   "cell_type": "code",
   "execution_count": 56,
   "id": "5cdcfdbc-4b86-4660-8cab-a6af9c28c972",
   "metadata": {
    "tags": []
   },
   "outputs": [
    {
     "data": {
      "text/plain": [
       "mths_since_last_record         86.566585\n",
       "mths_since_last_delinq         53.690554\n",
       "tot_coll_amt                   15.071469\n",
       "tot_cur_bal                    15.071469\n",
       "emp_length_int                  4.505399\n",
       "revol_util                      0.072917\n",
       "collections_12_mths_ex_med      0.031097\n",
       "delinq_2yrs                     0.006219\n",
       "inq_last_6mths                  0.006219\n",
       "open_acc                        0.006219\n",
       "pub_rec                         0.006219\n",
       "total_acc                       0.006219\n",
       "acc_now_delinq                  0.006219\n",
       "mths_since_earliest_cr_line     0.006219\n",
       "annual_inc                      0.000858\n",
       "dtype: float64"
      ]
     },
     "execution_count": 56,
     "metadata": {},
     "output_type": "execute_result"
    }
   ],
   "source": [
    "check_missing = data.isnull().sum() * 100 / data.shape[0]\n",
    "check_missing[check_missing > 0].sort_values(ascending=False)"
   ]
  },
  {
   "cell_type": "markdown",
   "id": "0ad9003e-ebbe-4fba-8d14-ab076156679f",
   "metadata": {},
   "source": [
    "Di sini, kolom-kolom dengan missing values di atas 75% dibuang"
   ]
  },
  {
   "cell_type": "code",
   "execution_count": 57,
   "id": "c90de401-3c8f-4e30-8d44-1c9454f28fbd",
   "metadata": {},
   "outputs": [],
   "source": [
    "data.drop('mths_since_last_record', axis=1, inplace=True)"
   ]
  },
  {
   "cell_type": "markdown",
   "id": "517f9f50-a6a9-4256-bed5-9c7257cb7d7c",
   "metadata": {},
   "source": [
    "### Missing Values Filling"
   ]
  },
  {
   "cell_type": "code",
   "execution_count": 58,
   "id": "54d0a97a-751e-47a6-82dc-30d69f84c542",
   "metadata": {},
   "outputs": [],
   "source": [
    "data['annual_inc'].fillna(data['annual_inc'].mean(), inplace=True)\n",
    "data['mths_since_earliest_cr_line'].fillna(0, inplace=True)\n",
    "data['acc_now_delinq'].fillna(0, inplace=True)\n",
    "data['total_acc'].fillna(0, inplace=True)\n",
    "data['pub_rec'].fillna(0, inplace=True)\n",
    "data['open_acc'].fillna(0, inplace=True)\n",
    "data['inq_last_6mths'].fillna(0, inplace=True)\n",
    "data['delinq_2yrs'].fillna(0, inplace=True)\n",
    "data['collections_12_mths_ex_med'].fillna(0, inplace=True)\n",
    "data['revol_util'].fillna(0, inplace=True)\n",
    "data['emp_length_int'].fillna(0, inplace=True)\n",
    "data['tot_cur_bal'].fillna(0, inplace=True)\n",
    "data['tot_coll_amt'].fillna(0, inplace=True)\n",
    "data['mths_since_last_delinq'].fillna(-1, inplace=True)"
   ]
  },
  {
   "cell_type": "markdown",
   "id": "c28ecfd6-bfd0-4d45-b34e-42317e867501",
   "metadata": {},
   "source": [
    "# FEATURE SCALING AND TRANSFORMATION"
   ]
  },
  {
   "cell_type": "markdown",
   "id": "ab3c322d-1522-4a5c-9dcf-c1a886b39682",
   "metadata": {},
   "source": [
    "### One Hot Encoding"
   ]
  },
  {
   "cell_type": "markdown",
   "id": "991d3330-8cca-499e-9954-1c808d3b2f34",
   "metadata": {},
   "source": [
    "Semua kolom kategorikal dilakukan One Hot Encoding."
   ]
  },
  {
   "cell_type": "code",
   "execution_count": 59,
   "id": "bb2303a2-31ef-43ab-b56e-768549a03cc3",
   "metadata": {},
   "outputs": [],
   "source": [
    "categorical_cols = [col for col in data.select_dtypes(include='object').columns.tolist()]"
   ]
  },
  {
   "cell_type": "code",
   "execution_count": 60,
   "id": "cfa85b8b-37e4-4340-bac5-195823e6e826",
   "metadata": {},
   "outputs": [],
   "source": [
    "onehot = pd.get_dummies(data[categorical_cols], drop_first=True)"
   ]
  },
  {
   "cell_type": "code",
   "execution_count": 61,
   "id": "1b03ef73-68fa-4cf1-a818-30c351da5371",
   "metadata": {},
   "outputs": [
    {
     "data": {
      "text/html": [
       "<div>\n",
       "<style scoped>\n",
       "    .dataframe tbody tr th:only-of-type {\n",
       "        vertical-align: middle;\n",
       "    }\n",
       "\n",
       "    .dataframe tbody tr th {\n",
       "        vertical-align: top;\n",
       "    }\n",
       "\n",
       "    .dataframe thead th {\n",
       "        text-align: right;\n",
       "    }\n",
       "</style>\n",
       "<table border=\"1\" class=\"dataframe\">\n",
       "  <thead>\n",
       "    <tr style=\"text-align: right;\">\n",
       "      <th></th>\n",
       "      <th>grade_B</th>\n",
       "      <th>grade_C</th>\n",
       "      <th>grade_D</th>\n",
       "      <th>grade_E</th>\n",
       "      <th>grade_F</th>\n",
       "      <th>grade_G</th>\n",
       "      <th>home_ownership_MORTGAGE</th>\n",
       "      <th>home_ownership_NONE</th>\n",
       "      <th>home_ownership_OTHER</th>\n",
       "      <th>home_ownership_OWN</th>\n",
       "      <th>home_ownership_RENT</th>\n",
       "      <th>verification_status_Source Verified</th>\n",
       "      <th>verification_status_Verified</th>\n",
       "      <th>purpose_credit_card</th>\n",
       "      <th>purpose_debt_consolidation</th>\n",
       "      <th>purpose_educational</th>\n",
       "      <th>purpose_home_improvement</th>\n",
       "      <th>purpose_house</th>\n",
       "      <th>purpose_major_purchase</th>\n",
       "      <th>purpose_medical</th>\n",
       "      <th>purpose_moving</th>\n",
       "      <th>purpose_other</th>\n",
       "      <th>purpose_renewable_energy</th>\n",
       "      <th>purpose_small_business</th>\n",
       "      <th>purpose_vacation</th>\n",
       "      <th>purpose_wedding</th>\n",
       "      <th>addr_state_AL</th>\n",
       "      <th>addr_state_AR</th>\n",
       "      <th>addr_state_AZ</th>\n",
       "      <th>addr_state_CA</th>\n",
       "      <th>addr_state_CO</th>\n",
       "      <th>addr_state_CT</th>\n",
       "      <th>addr_state_DC</th>\n",
       "      <th>addr_state_DE</th>\n",
       "      <th>addr_state_FL</th>\n",
       "      <th>addr_state_GA</th>\n",
       "      <th>addr_state_HI</th>\n",
       "      <th>addr_state_IA</th>\n",
       "      <th>addr_state_ID</th>\n",
       "      <th>addr_state_IL</th>\n",
       "      <th>addr_state_IN</th>\n",
       "      <th>addr_state_KS</th>\n",
       "      <th>addr_state_KY</th>\n",
       "      <th>addr_state_LA</th>\n",
       "      <th>addr_state_MA</th>\n",
       "      <th>addr_state_MD</th>\n",
       "      <th>addr_state_ME</th>\n",
       "      <th>addr_state_MI</th>\n",
       "      <th>addr_state_MN</th>\n",
       "      <th>addr_state_MO</th>\n",
       "      <th>addr_state_MS</th>\n",
       "      <th>addr_state_MT</th>\n",
       "      <th>addr_state_NC</th>\n",
       "      <th>addr_state_NE</th>\n",
       "      <th>addr_state_NH</th>\n",
       "      <th>addr_state_NJ</th>\n",
       "      <th>addr_state_NM</th>\n",
       "      <th>addr_state_NV</th>\n",
       "      <th>addr_state_NY</th>\n",
       "      <th>addr_state_OH</th>\n",
       "      <th>addr_state_OK</th>\n",
       "      <th>addr_state_OR</th>\n",
       "      <th>addr_state_PA</th>\n",
       "      <th>addr_state_RI</th>\n",
       "      <th>addr_state_SC</th>\n",
       "      <th>addr_state_SD</th>\n",
       "      <th>addr_state_TN</th>\n",
       "      <th>addr_state_TX</th>\n",
       "      <th>addr_state_UT</th>\n",
       "      <th>addr_state_VA</th>\n",
       "      <th>addr_state_VT</th>\n",
       "      <th>addr_state_WA</th>\n",
       "      <th>addr_state_WI</th>\n",
       "      <th>addr_state_WV</th>\n",
       "      <th>addr_state_WY</th>\n",
       "      <th>initial_list_status_w</th>\n",
       "    </tr>\n",
       "  </thead>\n",
       "  <tbody>\n",
       "    <tr>\n",
       "      <th>0</th>\n",
       "      <td>1</td>\n",
       "      <td>0</td>\n",
       "      <td>0</td>\n",
       "      <td>0</td>\n",
       "      <td>0</td>\n",
       "      <td>0</td>\n",
       "      <td>0</td>\n",
       "      <td>0</td>\n",
       "      <td>0</td>\n",
       "      <td>0</td>\n",
       "      <td>1</td>\n",
       "      <td>0</td>\n",
       "      <td>1</td>\n",
       "      <td>1</td>\n",
       "      <td>0</td>\n",
       "      <td>0</td>\n",
       "      <td>0</td>\n",
       "      <td>0</td>\n",
       "      <td>0</td>\n",
       "      <td>0</td>\n",
       "      <td>0</td>\n",
       "      <td>0</td>\n",
       "      <td>0</td>\n",
       "      <td>0</td>\n",
       "      <td>0</td>\n",
       "      <td>0</td>\n",
       "      <td>0</td>\n",
       "      <td>0</td>\n",
       "      <td>1</td>\n",
       "      <td>0</td>\n",
       "      <td>0</td>\n",
       "      <td>0</td>\n",
       "      <td>0</td>\n",
       "      <td>0</td>\n",
       "      <td>0</td>\n",
       "      <td>0</td>\n",
       "      <td>0</td>\n",
       "      <td>0</td>\n",
       "      <td>0</td>\n",
       "      <td>0</td>\n",
       "      <td>0</td>\n",
       "      <td>0</td>\n",
       "      <td>0</td>\n",
       "      <td>0</td>\n",
       "      <td>0</td>\n",
       "      <td>0</td>\n",
       "      <td>0</td>\n",
       "      <td>0</td>\n",
       "      <td>0</td>\n",
       "      <td>0</td>\n",
       "      <td>0</td>\n",
       "      <td>0</td>\n",
       "      <td>0</td>\n",
       "      <td>0</td>\n",
       "      <td>0</td>\n",
       "      <td>0</td>\n",
       "      <td>0</td>\n",
       "      <td>0</td>\n",
       "      <td>0</td>\n",
       "      <td>0</td>\n",
       "      <td>0</td>\n",
       "      <td>0</td>\n",
       "      <td>0</td>\n",
       "      <td>0</td>\n",
       "      <td>0</td>\n",
       "      <td>0</td>\n",
       "      <td>0</td>\n",
       "      <td>0</td>\n",
       "      <td>0</td>\n",
       "      <td>0</td>\n",
       "      <td>0</td>\n",
       "      <td>0</td>\n",
       "      <td>0</td>\n",
       "      <td>0</td>\n",
       "      <td>0</td>\n",
       "      <td>0</td>\n",
       "    </tr>\n",
       "    <tr>\n",
       "      <th>1</th>\n",
       "      <td>0</td>\n",
       "      <td>1</td>\n",
       "      <td>0</td>\n",
       "      <td>0</td>\n",
       "      <td>0</td>\n",
       "      <td>0</td>\n",
       "      <td>0</td>\n",
       "      <td>0</td>\n",
       "      <td>0</td>\n",
       "      <td>0</td>\n",
       "      <td>1</td>\n",
       "      <td>1</td>\n",
       "      <td>0</td>\n",
       "      <td>0</td>\n",
       "      <td>0</td>\n",
       "      <td>0</td>\n",
       "      <td>0</td>\n",
       "      <td>0</td>\n",
       "      <td>0</td>\n",
       "      <td>0</td>\n",
       "      <td>0</td>\n",
       "      <td>0</td>\n",
       "      <td>0</td>\n",
       "      <td>0</td>\n",
       "      <td>0</td>\n",
       "      <td>0</td>\n",
       "      <td>0</td>\n",
       "      <td>0</td>\n",
       "      <td>0</td>\n",
       "      <td>0</td>\n",
       "      <td>0</td>\n",
       "      <td>0</td>\n",
       "      <td>0</td>\n",
       "      <td>0</td>\n",
       "      <td>0</td>\n",
       "      <td>1</td>\n",
       "      <td>0</td>\n",
       "      <td>0</td>\n",
       "      <td>0</td>\n",
       "      <td>0</td>\n",
       "      <td>0</td>\n",
       "      <td>0</td>\n",
       "      <td>0</td>\n",
       "      <td>0</td>\n",
       "      <td>0</td>\n",
       "      <td>0</td>\n",
       "      <td>0</td>\n",
       "      <td>0</td>\n",
       "      <td>0</td>\n",
       "      <td>0</td>\n",
       "      <td>0</td>\n",
       "      <td>0</td>\n",
       "      <td>0</td>\n",
       "      <td>0</td>\n",
       "      <td>0</td>\n",
       "      <td>0</td>\n",
       "      <td>0</td>\n",
       "      <td>0</td>\n",
       "      <td>0</td>\n",
       "      <td>0</td>\n",
       "      <td>0</td>\n",
       "      <td>0</td>\n",
       "      <td>0</td>\n",
       "      <td>0</td>\n",
       "      <td>0</td>\n",
       "      <td>0</td>\n",
       "      <td>0</td>\n",
       "      <td>0</td>\n",
       "      <td>0</td>\n",
       "      <td>0</td>\n",
       "      <td>0</td>\n",
       "      <td>0</td>\n",
       "      <td>0</td>\n",
       "      <td>0</td>\n",
       "      <td>0</td>\n",
       "      <td>0</td>\n",
       "    </tr>\n",
       "    <tr>\n",
       "      <th>2</th>\n",
       "      <td>0</td>\n",
       "      <td>1</td>\n",
       "      <td>0</td>\n",
       "      <td>0</td>\n",
       "      <td>0</td>\n",
       "      <td>0</td>\n",
       "      <td>0</td>\n",
       "      <td>0</td>\n",
       "      <td>0</td>\n",
       "      <td>0</td>\n",
       "      <td>1</td>\n",
       "      <td>0</td>\n",
       "      <td>0</td>\n",
       "      <td>0</td>\n",
       "      <td>0</td>\n",
       "      <td>0</td>\n",
       "      <td>0</td>\n",
       "      <td>0</td>\n",
       "      <td>0</td>\n",
       "      <td>0</td>\n",
       "      <td>0</td>\n",
       "      <td>0</td>\n",
       "      <td>0</td>\n",
       "      <td>1</td>\n",
       "      <td>0</td>\n",
       "      <td>0</td>\n",
       "      <td>0</td>\n",
       "      <td>0</td>\n",
       "      <td>0</td>\n",
       "      <td>0</td>\n",
       "      <td>0</td>\n",
       "      <td>0</td>\n",
       "      <td>0</td>\n",
       "      <td>0</td>\n",
       "      <td>0</td>\n",
       "      <td>0</td>\n",
       "      <td>0</td>\n",
       "      <td>0</td>\n",
       "      <td>0</td>\n",
       "      <td>1</td>\n",
       "      <td>0</td>\n",
       "      <td>0</td>\n",
       "      <td>0</td>\n",
       "      <td>0</td>\n",
       "      <td>0</td>\n",
       "      <td>0</td>\n",
       "      <td>0</td>\n",
       "      <td>0</td>\n",
       "      <td>0</td>\n",
       "      <td>0</td>\n",
       "      <td>0</td>\n",
       "      <td>0</td>\n",
       "      <td>0</td>\n",
       "      <td>0</td>\n",
       "      <td>0</td>\n",
       "      <td>0</td>\n",
       "      <td>0</td>\n",
       "      <td>0</td>\n",
       "      <td>0</td>\n",
       "      <td>0</td>\n",
       "      <td>0</td>\n",
       "      <td>0</td>\n",
       "      <td>0</td>\n",
       "      <td>0</td>\n",
       "      <td>0</td>\n",
       "      <td>0</td>\n",
       "      <td>0</td>\n",
       "      <td>0</td>\n",
       "      <td>0</td>\n",
       "      <td>0</td>\n",
       "      <td>0</td>\n",
       "      <td>0</td>\n",
       "      <td>0</td>\n",
       "      <td>0</td>\n",
       "      <td>0</td>\n",
       "      <td>0</td>\n",
       "    </tr>\n",
       "    <tr>\n",
       "      <th>3</th>\n",
       "      <td>0</td>\n",
       "      <td>1</td>\n",
       "      <td>0</td>\n",
       "      <td>0</td>\n",
       "      <td>0</td>\n",
       "      <td>0</td>\n",
       "      <td>0</td>\n",
       "      <td>0</td>\n",
       "      <td>0</td>\n",
       "      <td>0</td>\n",
       "      <td>1</td>\n",
       "      <td>1</td>\n",
       "      <td>0</td>\n",
       "      <td>0</td>\n",
       "      <td>0</td>\n",
       "      <td>0</td>\n",
       "      <td>0</td>\n",
       "      <td>0</td>\n",
       "      <td>0</td>\n",
       "      <td>0</td>\n",
       "      <td>0</td>\n",
       "      <td>1</td>\n",
       "      <td>0</td>\n",
       "      <td>0</td>\n",
       "      <td>0</td>\n",
       "      <td>0</td>\n",
       "      <td>0</td>\n",
       "      <td>0</td>\n",
       "      <td>0</td>\n",
       "      <td>1</td>\n",
       "      <td>0</td>\n",
       "      <td>0</td>\n",
       "      <td>0</td>\n",
       "      <td>0</td>\n",
       "      <td>0</td>\n",
       "      <td>0</td>\n",
       "      <td>0</td>\n",
       "      <td>0</td>\n",
       "      <td>0</td>\n",
       "      <td>0</td>\n",
       "      <td>0</td>\n",
       "      <td>0</td>\n",
       "      <td>0</td>\n",
       "      <td>0</td>\n",
       "      <td>0</td>\n",
       "      <td>0</td>\n",
       "      <td>0</td>\n",
       "      <td>0</td>\n",
       "      <td>0</td>\n",
       "      <td>0</td>\n",
       "      <td>0</td>\n",
       "      <td>0</td>\n",
       "      <td>0</td>\n",
       "      <td>0</td>\n",
       "      <td>0</td>\n",
       "      <td>0</td>\n",
       "      <td>0</td>\n",
       "      <td>0</td>\n",
       "      <td>0</td>\n",
       "      <td>0</td>\n",
       "      <td>0</td>\n",
       "      <td>0</td>\n",
       "      <td>0</td>\n",
       "      <td>0</td>\n",
       "      <td>0</td>\n",
       "      <td>0</td>\n",
       "      <td>0</td>\n",
       "      <td>0</td>\n",
       "      <td>0</td>\n",
       "      <td>0</td>\n",
       "      <td>0</td>\n",
       "      <td>0</td>\n",
       "      <td>0</td>\n",
       "      <td>0</td>\n",
       "      <td>0</td>\n",
       "      <td>0</td>\n",
       "    </tr>\n",
       "    <tr>\n",
       "      <th>4</th>\n",
       "      <td>1</td>\n",
       "      <td>0</td>\n",
       "      <td>0</td>\n",
       "      <td>0</td>\n",
       "      <td>0</td>\n",
       "      <td>0</td>\n",
       "      <td>0</td>\n",
       "      <td>0</td>\n",
       "      <td>0</td>\n",
       "      <td>0</td>\n",
       "      <td>1</td>\n",
       "      <td>1</td>\n",
       "      <td>0</td>\n",
       "      <td>0</td>\n",
       "      <td>0</td>\n",
       "      <td>0</td>\n",
       "      <td>0</td>\n",
       "      <td>0</td>\n",
       "      <td>0</td>\n",
       "      <td>0</td>\n",
       "      <td>0</td>\n",
       "      <td>1</td>\n",
       "      <td>0</td>\n",
       "      <td>0</td>\n",
       "      <td>0</td>\n",
       "      <td>0</td>\n",
       "      <td>0</td>\n",
       "      <td>0</td>\n",
       "      <td>0</td>\n",
       "      <td>0</td>\n",
       "      <td>0</td>\n",
       "      <td>0</td>\n",
       "      <td>0</td>\n",
       "      <td>0</td>\n",
       "      <td>0</td>\n",
       "      <td>0</td>\n",
       "      <td>0</td>\n",
       "      <td>0</td>\n",
       "      <td>0</td>\n",
       "      <td>0</td>\n",
       "      <td>0</td>\n",
       "      <td>0</td>\n",
       "      <td>0</td>\n",
       "      <td>0</td>\n",
       "      <td>0</td>\n",
       "      <td>0</td>\n",
       "      <td>0</td>\n",
       "      <td>0</td>\n",
       "      <td>0</td>\n",
       "      <td>0</td>\n",
       "      <td>0</td>\n",
       "      <td>0</td>\n",
       "      <td>0</td>\n",
       "      <td>0</td>\n",
       "      <td>0</td>\n",
       "      <td>0</td>\n",
       "      <td>0</td>\n",
       "      <td>0</td>\n",
       "      <td>0</td>\n",
       "      <td>0</td>\n",
       "      <td>0</td>\n",
       "      <td>1</td>\n",
       "      <td>0</td>\n",
       "      <td>0</td>\n",
       "      <td>0</td>\n",
       "      <td>0</td>\n",
       "      <td>0</td>\n",
       "      <td>0</td>\n",
       "      <td>0</td>\n",
       "      <td>0</td>\n",
       "      <td>0</td>\n",
       "      <td>0</td>\n",
       "      <td>0</td>\n",
       "      <td>0</td>\n",
       "      <td>0</td>\n",
       "      <td>0</td>\n",
       "    </tr>\n",
       "  </tbody>\n",
       "</table>\n",
       "</div>"
      ],
      "text/plain": [
       "   grade_B  grade_C  grade_D  grade_E  grade_F  grade_G  \\\n",
       "0        1        0        0        0        0        0   \n",
       "1        0        1        0        0        0        0   \n",
       "2        0        1        0        0        0        0   \n",
       "3        0        1        0        0        0        0   \n",
       "4        1        0        0        0        0        0   \n",
       "\n",
       "   home_ownership_MORTGAGE  home_ownership_NONE  home_ownership_OTHER  \\\n",
       "0                        0                    0                     0   \n",
       "1                        0                    0                     0   \n",
       "2                        0                    0                     0   \n",
       "3                        0                    0                     0   \n",
       "4                        0                    0                     0   \n",
       "\n",
       "   home_ownership_OWN  home_ownership_RENT  \\\n",
       "0                   0                    1   \n",
       "1                   0                    1   \n",
       "2                   0                    1   \n",
       "3                   0                    1   \n",
       "4                   0                    1   \n",
       "\n",
       "   verification_status_Source Verified  verification_status_Verified  \\\n",
       "0                                    0                             1   \n",
       "1                                    1                             0   \n",
       "2                                    0                             0   \n",
       "3                                    1                             0   \n",
       "4                                    1                             0   \n",
       "\n",
       "   purpose_credit_card  purpose_debt_consolidation  purpose_educational  \\\n",
       "0                    1                           0                    0   \n",
       "1                    0                           0                    0   \n",
       "2                    0                           0                    0   \n",
       "3                    0                           0                    0   \n",
       "4                    0                           0                    0   \n",
       "\n",
       "   purpose_home_improvement  purpose_house  purpose_major_purchase  \\\n",
       "0                         0              0                       0   \n",
       "1                         0              0                       0   \n",
       "2                         0              0                       0   \n",
       "3                         0              0                       0   \n",
       "4                         0              0                       0   \n",
       "\n",
       "   purpose_medical  purpose_moving  purpose_other  purpose_renewable_energy  \\\n",
       "0                0               0              0                         0   \n",
       "1                0               0              0                         0   \n",
       "2                0               0              0                         0   \n",
       "3                0               0              1                         0   \n",
       "4                0               0              1                         0   \n",
       "\n",
       "   purpose_small_business  purpose_vacation  purpose_wedding  addr_state_AL  \\\n",
       "0                       0                 0                0              0   \n",
       "1                       0                 0                0              0   \n",
       "2                       1                 0                0              0   \n",
       "3                       0                 0                0              0   \n",
       "4                       0                 0                0              0   \n",
       "\n",
       "   addr_state_AR  addr_state_AZ  addr_state_CA  addr_state_CO  addr_state_CT  \\\n",
       "0              0              1              0              0              0   \n",
       "1              0              0              0              0              0   \n",
       "2              0              0              0              0              0   \n",
       "3              0              0              1              0              0   \n",
       "4              0              0              0              0              0   \n",
       "\n",
       "   addr_state_DC  addr_state_DE  addr_state_FL  addr_state_GA  addr_state_HI  \\\n",
       "0              0              0              0              0              0   \n",
       "1              0              0              0              1              0   \n",
       "2              0              0              0              0              0   \n",
       "3              0              0              0              0              0   \n",
       "4              0              0              0              0              0   \n",
       "\n",
       "   addr_state_IA  addr_state_ID  addr_state_IL  addr_state_IN  addr_state_KS  \\\n",
       "0              0              0              0              0              0   \n",
       "1              0              0              0              0              0   \n",
       "2              0              0              1              0              0   \n",
       "3              0              0              0              0              0   \n",
       "4              0              0              0              0              0   \n",
       "\n",
       "   addr_state_KY  addr_state_LA  addr_state_MA  addr_state_MD  addr_state_ME  \\\n",
       "0              0              0              0              0              0   \n",
       "1              0              0              0              0              0   \n",
       "2              0              0              0              0              0   \n",
       "3              0              0              0              0              0   \n",
       "4              0              0              0              0              0   \n",
       "\n",
       "   addr_state_MI  addr_state_MN  addr_state_MO  addr_state_MS  addr_state_MT  \\\n",
       "0              0              0              0              0              0   \n",
       "1              0              0              0              0              0   \n",
       "2              0              0              0              0              0   \n",
       "3              0              0              0              0              0   \n",
       "4              0              0              0              0              0   \n",
       "\n",
       "   addr_state_NC  addr_state_NE  addr_state_NH  addr_state_NJ  addr_state_NM  \\\n",
       "0              0              0              0              0              0   \n",
       "1              0              0              0              0              0   \n",
       "2              0              0              0              0              0   \n",
       "3              0              0              0              0              0   \n",
       "4              0              0              0              0              0   \n",
       "\n",
       "   addr_state_NV  addr_state_NY  addr_state_OH  addr_state_OK  addr_state_OR  \\\n",
       "0              0              0              0              0              0   \n",
       "1              0              0              0              0              0   \n",
       "2              0              0              0              0              0   \n",
       "3              0              0              0              0              0   \n",
       "4              0              0              0              0              1   \n",
       "\n",
       "   addr_state_PA  addr_state_RI  addr_state_SC  addr_state_SD  addr_state_TN  \\\n",
       "0              0              0              0              0              0   \n",
       "1              0              0              0              0              0   \n",
       "2              0              0              0              0              0   \n",
       "3              0              0              0              0              0   \n",
       "4              0              0              0              0              0   \n",
       "\n",
       "   addr_state_TX  addr_state_UT  addr_state_VA  addr_state_VT  addr_state_WA  \\\n",
       "0              0              0              0              0              0   \n",
       "1              0              0              0              0              0   \n",
       "2              0              0              0              0              0   \n",
       "3              0              0              0              0              0   \n",
       "4              0              0              0              0              0   \n",
       "\n",
       "   addr_state_WI  addr_state_WV  addr_state_WY  initial_list_status_w  \n",
       "0              0              0              0                      0  \n",
       "1              0              0              0                      0  \n",
       "2              0              0              0                      0  \n",
       "3              0              0              0                      0  \n",
       "4              0              0              0                      0  "
      ]
     },
     "execution_count": 61,
     "metadata": {},
     "output_type": "execute_result"
    }
   ],
   "source": [
    "onehot.head()"
   ]
  },
  {
   "cell_type": "markdown",
   "id": "deb37d80-a83a-4256-837f-f3e4f66cc148",
   "metadata": {},
   "source": [
    "### Standardization"
   ]
  },
  {
   "cell_type": "markdown",
   "id": "6d32ab99-ff99-4984-91f2-2c8dba37ac47",
   "metadata": {},
   "source": [
    "Semua kolom numerikal dilakukan proses standarisasi dengan StandardScaler."
   ]
  },
  {
   "cell_type": "code",
   "execution_count": 62,
   "id": "e46550bb-77e4-49dd-b995-4d3c8cd9bd00",
   "metadata": {},
   "outputs": [],
   "source": [
    "numerical_cols = [col for col in data.columns.tolist() if col not in categorical_cols + ['bad_flag']]"
   ]
  },
  {
   "cell_type": "code",
   "execution_count": 63,
   "id": "795b4222-6018-41c3-a655-f9fa130228c5",
   "metadata": {},
   "outputs": [],
   "source": [
    "from sklearn.preprocessing import StandardScaler\n",
    "\n",
    "ss = StandardScaler()\n",
    "std = pd.DataFrame(ss.fit_transform(data[numerical_cols]), columns=numerical_cols)"
   ]
  },
  {
   "cell_type": "code",
   "execution_count": 64,
   "id": "3d5fd301-e010-42ed-bb7e-5c85165251a2",
   "metadata": {},
   "outputs": [
    {
     "data": {
      "text/html": [
       "<div>\n",
       "<style scoped>\n",
       "    .dataframe tbody tr th:only-of-type {\n",
       "        vertical-align: middle;\n",
       "    }\n",
       "\n",
       "    .dataframe tbody tr th {\n",
       "        vertical-align: top;\n",
       "    }\n",
       "\n",
       "    .dataframe thead th {\n",
       "        text-align: right;\n",
       "    }\n",
       "</style>\n",
       "<table border=\"1\" class=\"dataframe\">\n",
       "  <thead>\n",
       "    <tr style=\"text-align: right;\">\n",
       "      <th></th>\n",
       "      <th>loan_amnt</th>\n",
       "      <th>int_rate</th>\n",
       "      <th>annual_inc</th>\n",
       "      <th>dti</th>\n",
       "      <th>delinq_2yrs</th>\n",
       "      <th>inq_last_6mths</th>\n",
       "      <th>mths_since_last_delinq</th>\n",
       "      <th>open_acc</th>\n",
       "      <th>pub_rec</th>\n",
       "      <th>revol_bal</th>\n",
       "      <th>revol_util</th>\n",
       "      <th>total_acc</th>\n",
       "      <th>out_prncp</th>\n",
       "      <th>total_rec_late_fee</th>\n",
       "      <th>recoveries</th>\n",
       "      <th>collections_12_mths_ex_med</th>\n",
       "      <th>acc_now_delinq</th>\n",
       "      <th>tot_coll_amt</th>\n",
       "      <th>tot_cur_bal</th>\n",
       "      <th>emp_length_int</th>\n",
       "      <th>term_int</th>\n",
       "      <th>mths_since_earliest_cr_line</th>\n",
       "      <th>mths_since_issue_d</th>\n",
       "    </tr>\n",
       "  </thead>\n",
       "  <tbody>\n",
       "    <tr>\n",
       "      <th>0</th>\n",
       "      <td>-1.124392</td>\n",
       "      <td>-0.729587</td>\n",
       "      <td>-0.896551</td>\n",
       "      <td>1.328632</td>\n",
       "      <td>-0.357012</td>\n",
       "      <td>0.178920</td>\n",
       "      <td>-0.708792</td>\n",
       "      <td>-1.641166</td>\n",
       "      <td>-0.31429</td>\n",
       "      <td>-0.124888</td>\n",
       "      <td>1.159498</td>\n",
       "      <td>-1.384557</td>\n",
       "      <td>-0.693944</td>\n",
       "      <td>-0.123464</td>\n",
       "      <td>-0.154549</td>\n",
       "      <td>-0.083608</td>\n",
       "      <td>-0.058307</td>\n",
       "      <td>-0.012089</td>\n",
       "      <td>-0.792648</td>\n",
       "      <td>1.138605</td>\n",
       "      <td>-0.616225</td>\n",
       "      <td>1.764941</td>\n",
       "      <td>1.446626</td>\n",
       "    </tr>\n",
       "    <tr>\n",
       "      <th>1</th>\n",
       "      <td>-1.426088</td>\n",
       "      <td>0.330634</td>\n",
       "      <td>-0.787387</td>\n",
       "      <td>-2.065791</td>\n",
       "      <td>-0.357012</td>\n",
       "      <td>3.843328</td>\n",
       "      <td>-0.708792</td>\n",
       "      <td>-1.641166</td>\n",
       "      <td>-0.31429</td>\n",
       "      <td>-0.703378</td>\n",
       "      <td>-1.965980</td>\n",
       "      <td>-1.815538</td>\n",
       "      <td>-0.693944</td>\n",
       "      <td>-0.123464</td>\n",
       "      <td>0.057470</td>\n",
       "      <td>-0.083608</td>\n",
       "      <td>-0.058307</td>\n",
       "      <td>-0.012089</td>\n",
       "      <td>-0.792648</td>\n",
       "      <td>-1.523744</td>\n",
       "      <td>1.622784</td>\n",
       "      <td>-0.212426</td>\n",
       "      <td>1.446626</td>\n",
       "    </tr>\n",
       "    <tr>\n",
       "      <th>2</th>\n",
       "      <td>-1.438156</td>\n",
       "      <td>0.488979</td>\n",
       "      <td>-1.110294</td>\n",
       "      <td>-1.082491</td>\n",
       "      <td>-0.357012</td>\n",
       "      <td>1.095022</td>\n",
       "      <td>-0.708792</td>\n",
       "      <td>-1.841641</td>\n",
       "      <td>-0.31429</td>\n",
       "      <td>-0.642003</td>\n",
       "      <td>1.782070</td>\n",
       "      <td>-1.298361</td>\n",
       "      <td>-0.693944</td>\n",
       "      <td>-0.123464</td>\n",
       "      <td>-0.154549</td>\n",
       "      <td>-0.083608</td>\n",
       "      <td>-0.058307</td>\n",
       "      <td>-0.012089</td>\n",
       "      <td>-0.792648</td>\n",
       "      <td>1.138605</td>\n",
       "      <td>-0.616225</td>\n",
       "      <td>-0.570896</td>\n",
       "      <td>1.446626</td>\n",
       "    </tr>\n",
       "    <tr>\n",
       "      <th>3</th>\n",
       "      <td>-0.521001</td>\n",
       "      <td>-0.077850</td>\n",
       "      <td>-0.438063</td>\n",
       "      <td>0.354248</td>\n",
       "      <td>-0.357012</td>\n",
       "      <td>0.178920</td>\n",
       "      <td>0.860811</td>\n",
       "      <td>-0.237839</td>\n",
       "      <td>-0.31429</td>\n",
       "      <td>-0.514224</td>\n",
       "      <td>-1.478018</td>\n",
       "      <td>1.028934</td>\n",
       "      <td>-0.693944</td>\n",
       "      <td>3.099264</td>\n",
       "      <td>-0.154549</td>\n",
       "      <td>-0.083608</td>\n",
       "      <td>-0.058307</td>\n",
       "      <td>-0.012089</td>\n",
       "      <td>-0.792648</td>\n",
       "      <td>1.138605</td>\n",
       "      <td>-0.616225</td>\n",
       "      <td>0.226989</td>\n",
       "      <td>1.446626</td>\n",
       "    </tr>\n",
       "    <tr>\n",
       "      <th>4</th>\n",
       "      <td>-1.365749</td>\n",
       "      <td>-0.261438</td>\n",
       "      <td>0.122311</td>\n",
       "      <td>0.091865</td>\n",
       "      <td>-0.357012</td>\n",
       "      <td>-0.737182</td>\n",
       "      <td>0.991612</td>\n",
       "      <td>0.764538</td>\n",
       "      <td>-0.31429</td>\n",
       "      <td>0.558748</td>\n",
       "      <td>-0.094058</td>\n",
       "      <td>1.115130</td>\n",
       "      <td>-0.573268</td>\n",
       "      <td>-0.123464</td>\n",
       "      <td>-0.154549</td>\n",
       "      <td>-0.083608</td>\n",
       "      <td>-0.058307</td>\n",
       "      <td>-0.012089</td>\n",
       "      <td>-0.792648</td>\n",
       "      <td>-1.257509</td>\n",
       "      <td>1.622784</td>\n",
       "      <td>0.238553</td>\n",
       "      <td>1.446626</td>\n",
       "    </tr>\n",
       "  </tbody>\n",
       "</table>\n",
       "</div>"
      ],
      "text/plain": [
       "   loan_amnt  int_rate  annual_inc       dti  delinq_2yrs  inq_last_6mths  \\\n",
       "0  -1.124392 -0.729587   -0.896551  1.328632    -0.357012        0.178920   \n",
       "1  -1.426088  0.330634   -0.787387 -2.065791    -0.357012        3.843328   \n",
       "2  -1.438156  0.488979   -1.110294 -1.082491    -0.357012        1.095022   \n",
       "3  -0.521001 -0.077850   -0.438063  0.354248    -0.357012        0.178920   \n",
       "4  -1.365749 -0.261438    0.122311  0.091865    -0.357012       -0.737182   \n",
       "\n",
       "   mths_since_last_delinq  open_acc  pub_rec  revol_bal  revol_util  \\\n",
       "0               -0.708792 -1.641166 -0.31429  -0.124888    1.159498   \n",
       "1               -0.708792 -1.641166 -0.31429  -0.703378   -1.965980   \n",
       "2               -0.708792 -1.841641 -0.31429  -0.642003    1.782070   \n",
       "3                0.860811 -0.237839 -0.31429  -0.514224   -1.478018   \n",
       "4                0.991612  0.764538 -0.31429   0.558748   -0.094058   \n",
       "\n",
       "   total_acc  out_prncp  total_rec_late_fee  recoveries  \\\n",
       "0  -1.384557  -0.693944           -0.123464   -0.154549   \n",
       "1  -1.815538  -0.693944           -0.123464    0.057470   \n",
       "2  -1.298361  -0.693944           -0.123464   -0.154549   \n",
       "3   1.028934  -0.693944            3.099264   -0.154549   \n",
       "4   1.115130  -0.573268           -0.123464   -0.154549   \n",
       "\n",
       "   collections_12_mths_ex_med  acc_now_delinq  tot_coll_amt  tot_cur_bal  \\\n",
       "0                   -0.083608       -0.058307     -0.012089    -0.792648   \n",
       "1                   -0.083608       -0.058307     -0.012089    -0.792648   \n",
       "2                   -0.083608       -0.058307     -0.012089    -0.792648   \n",
       "3                   -0.083608       -0.058307     -0.012089    -0.792648   \n",
       "4                   -0.083608       -0.058307     -0.012089    -0.792648   \n",
       "\n",
       "   emp_length_int  term_int  mths_since_earliest_cr_line  mths_since_issue_d  \n",
       "0        1.138605 -0.616225                     1.764941            1.446626  \n",
       "1       -1.523744  1.622784                    -0.212426            1.446626  \n",
       "2        1.138605 -0.616225                    -0.570896            1.446626  \n",
       "3        1.138605 -0.616225                     0.226989            1.446626  \n",
       "4       -1.257509  1.622784                     0.238553            1.446626  "
      ]
     },
     "execution_count": 64,
     "metadata": {},
     "output_type": "execute_result"
    }
   ],
   "source": [
    "std.head()"
   ]
  },
  {
   "cell_type": "markdown",
   "id": "fe95f2f6-6372-46bf-8b8b-58f9ef3f823b",
   "metadata": {},
   "source": [
    "### Transformed Dataframe"
   ]
  },
  {
   "cell_type": "markdown",
   "id": "379b69f2-ab72-460d-a566-f4fbd88d697f",
   "metadata": {},
   "source": [
    "Menggabungkan kembali kolom-kolom hasil transformasi "
   ]
  },
  {
   "cell_type": "code",
   "execution_count": 65,
   "id": "fc2ace56-2789-4a19-9a70-bdb72ee3d680",
   "metadata": {},
   "outputs": [],
   "source": [
    "data_model = pd.concat([onehot, std, data[['bad_flag']]], axis=1)"
   ]
  },
  {
   "cell_type": "markdown",
   "id": "e0b46ea7-3070-4865-beef-9df79ffbc289",
   "metadata": {
    "tags": []
   },
   "source": [
    "# MODELING"
   ]
  },
  {
   "cell_type": "markdown",
   "id": "0b0e6c1a-d336-4f67-b67e-3a8e8a1da5f8",
   "metadata": {},
   "source": [
    "### Train-Test Split"
   ]
  },
  {
   "cell_type": "code",
   "execution_count": 66,
   "id": "84d129a3-759f-4ccd-8522-0a80712a271a",
   "metadata": {},
   "outputs": [],
   "source": [
    "from sklearn.model_selection import train_test_split"
   ]
  },
  {
   "cell_type": "code",
   "execution_count": 67,
   "id": "ce1fdd10-2163-415b-8eb4-987721fa7154",
   "metadata": {},
   "outputs": [],
   "source": [
    "X = data_model.drop('bad_flag', axis=1)\n",
    "y = data_model['bad_flag']\n",
    "\n",
    "X_train, X_test, y_train, y_test = train_test_split(X, y, test_size=0.2, random_state=42)"
   ]
  },
  {
   "cell_type": "code",
   "execution_count": 68,
   "id": "712fafef-a848-4b65-9ce9-3c007d9cef56",
   "metadata": {},
   "outputs": [
    {
     "data": {
      "text/plain": [
       "((373028, 99), (93257, 99))"
      ]
     },
     "execution_count": 68,
     "metadata": {},
     "output_type": "execute_result"
    }
   ],
   "source": [
    "X_train.shape, X_test.shape"
   ]
  },
  {
   "cell_type": "markdown",
   "id": "cb3e3c0b-a87b-4227-8a8c-70d034048d06",
   "metadata": {},
   "source": [
    "## Train"
   ]
  },
  {
   "cell_type": "code",
   "execution_count": 73,
   "id": "3fac13be-946e-4f10-99f1-c18aa73981f5",
   "metadata": {},
   "outputs": [],
   "source": [
    "from sklearn.metrics import accuracy_score\n",
    "from sklearn.metrics import roc_curve, roc_auc_score"
   ]
  },
  {
   "cell_type": "markdown",
   "id": "ab1cc741-d1b3-442a-b5e9-91a507b4d9f6",
   "metadata": {},
   "source": [
    "### Random Forest"
   ]
  },
  {
   "cell_type": "code",
   "execution_count": 74,
   "id": "8311a926-4e81-442d-ad31-861d4e5f6f70",
   "metadata": {},
   "outputs": [
    {
     "name": "stdout",
     "output_type": "stream",
     "text": [
      "AUC Train \t\t: 0.86\n",
      "AUC Test \t\t: 0.86\n",
      "KS Train \t\t: 0.56\n",
      "KS Test \t\t: 0.56\n"
     ]
    }
   ],
   "source": [
    "# Fit - train\n",
    "from sklearn.ensemble import RandomForestClassifier\n",
    "rfc = RandomForestClassifier(random_state=42, max_depth=4)\n",
    "\n",
    "# Train\n",
    "rfc.fit(X_train,y_train)\n",
    "\n",
    "#Val Train\n",
    "y_pred_train = rfc.predict_proba(X_train)[:][:,1]\n",
    "df_actual_pred_train_rfc = pd.concat([pd.DataFrame(np.array(y_train), columns=['y_actual']), pd.DataFrame(y_pred_train, columns=['y_pred_train'])], axis=1)\n",
    "df_actual_pred_train_rfc.index = y_train.index\n",
    "\n",
    "fpr, tpr, tr = roc_curve(df_actual_pred_train_rfc['y_actual'], df_actual_pred_train_rfc['y_pred_train'])\n",
    "auc_rf_train = roc_auc_score(df_actual_pred_train_rfc['y_actual'], df_actual_pred_train_rfc['y_pred_train'])\n",
    "\n",
    "df_actual_pred_train_rfc = df_actual_pred_train_rfc.sort_values('y_pred_train')\n",
    "df_actual_pred_train_rfc = df_actual_pred_train_rfc.reset_index()\n",
    "df_actual_pred_train_rfc['Cumulative N Population'] = df_actual_pred_train_rfc.index + 1\n",
    "df_actual_pred_train_rfc['Cumulative N Bad'] = df_actual_pred_train_rfc['y_actual'].cumsum()\n",
    "df_actual_pred_train_rfc['Cumulative N Good'] = df_actual_pred_train_rfc['Cumulative N Population'] - df_actual_pred_train_rfc['Cumulative N Bad']\n",
    "df_actual_pred_train_rfc['Cumulative Perc Population'] = df_actual_pred_train_rfc['Cumulative N Population'] / df_actual_pred_train_rfc.shape[0]\n",
    "df_actual_pred_train_rfc['Cumulative Perc Bad'] = df_actual_pred_train_rfc['Cumulative N Bad'] / df_actual_pred_train_rfc['y_actual'].sum()\n",
    "df_actual_pred_train_rfc['Cumulative Perc Good'] = df_actual_pred_train_rfc['Cumulative N Good'] / (df_actual_pred_train_rfc.shape[0] - df_actual_pred_train_rfc['y_actual'].sum())\n",
    "KS_rf_train = max(df_actual_pred_train_rfc['Cumulative Perc Good'] - df_actual_pred_train_rfc['Cumulative Perc Bad'])\n",
    "\n",
    "#Val Test\n",
    "y_pred_proba = rfc.predict_proba(X_test)[:][:,1]\n",
    "df_actual_pred_test_rfc = pd.concat([pd.DataFrame(np.array(y_test), columns=['y_actual']), pd.DataFrame(y_pred_proba, columns=['y_pred_proba'])], axis=1)\n",
    "df_actual_pred_test_rfc.index = y_test.index\n",
    "fpr, tpr, tr = roc_curve(df_actual_pred_test_rfc['y_actual'], df_actual_pred_test_rfc['y_pred_proba'])\n",
    "auc_rf_test = roc_auc_score(df_actual_pred_test_rfc['y_actual'], df_actual_pred_test_rfc['y_pred_proba'])\n",
    "\n",
    "df_actual_pred_test_rfc = df_actual_pred_test_rfc.sort_values('y_pred_proba')\n",
    "df_actual_pred_test_rfc = df_actual_pred_test_rfc.reset_index()\n",
    "df_actual_pred_test_rfc['Cumulative N Population'] = df_actual_pred_test_rfc.index + 1\n",
    "df_actual_pred_test_rfc['Cumulative N Bad'] = df_actual_pred_test_rfc['y_actual'].cumsum()\n",
    "df_actual_pred_test_rfc['Cumulative N Good'] = df_actual_pred_test_rfc['Cumulative N Population'] - df_actual_pred_test_rfc['Cumulative N Bad']\n",
    "df_actual_pred_test_rfc['Cumulative Perc Population'] = df_actual_pred_test_rfc['Cumulative N Population'] / df_actual_pred_test_rfc.shape[0]\n",
    "df_actual_pred_test_rfc['Cumulative Perc Bad'] = df_actual_pred_test_rfc['Cumulative N Bad'] / df_actual_pred_test_rfc['y_actual'].sum()\n",
    "df_actual_pred_test_rfc['Cumulative Perc Good'] = df_actual_pred_test_rfc['Cumulative N Good'] / (df_actual_pred_test_rfc.shape[0] - df_actual_pred_test_rfc['y_actual'].sum())\n",
    "KS_rf_test = max(df_actual_pred_test_rfc['Cumulative Perc Good'] - df_actual_pred_test_rfc['Cumulative Perc Bad'])\n",
    "\n",
    "\n",
    "print('AUC Train \\t\\t: %.2f' % auc_rf_train)\n",
    "print('AUC Test \\t\\t: %.2f' % auc_rf_test)\n",
    "\n",
    "\n",
    "print('KS Train \\t\\t: %.2f' % KS_rf_train)\n",
    "print('KS Test \\t\\t: %.2f' % KS_rf_test)"
   ]
  },
  {
   "cell_type": "markdown",
   "id": "aa8d6d44-8d54-4024-8497-16a407745b0e",
   "metadata": {},
   "source": [
    "### Decision Tree"
   ]
  },
  {
   "cell_type": "code",
   "execution_count": 75,
   "id": "78147aae-c0c6-469d-b811-6fd5b7960a4a",
   "metadata": {},
   "outputs": [
    {
     "name": "stdout",
     "output_type": "stream",
     "text": [
      "AUC Train \t\t: 0.85\n",
      "AUC Test \t\t: 0.85\n",
      "KS Train \t\t: 0.56\n",
      "KS Test \t\t: 0.56\n"
     ]
    }
   ],
   "source": [
    "# Fit - train\n",
    "from sklearn.tree import DecisionTreeClassifier\n",
    "dt = DecisionTreeClassifier(random_state=42,max_depth=4)\n",
    "\n",
    "# Train\n",
    "dt.fit(X_train,y_train)\n",
    "\n",
    "#Val Train\n",
    "y_pred_train = dt.predict_proba(X_train)[:][:,1]\n",
    "df_actual_pred_train_dt = pd.concat([pd.DataFrame(np.array(y_train), columns=['y_actual']), pd.DataFrame(y_pred_train, columns=['y_pred_train'])], axis=1)\n",
    "df_actual_pred_train_dt.index = y_train.index\n",
    "\n",
    "fpr, tpr, tr = roc_curve(df_actual_pred_train_dt['y_actual'], df_actual_pred_train_dt['y_pred_train'])\n",
    "auc_dt_train = roc_auc_score(df_actual_pred_train_dt['y_actual'], df_actual_pred_train_dt['y_pred_train'])\n",
    "\n",
    "df_actual_pred_train_dt = df_actual_pred_train_dt.sort_values('y_pred_train')\n",
    "df_actual_pred_train_dt = df_actual_pred_train_dt.reset_index()\n",
    "df_actual_pred_train_dt['Cumulative N Population'] = df_actual_pred_train_dt.index + 1\n",
    "df_actual_pred_train_dt['Cumulative N Bad'] = df_actual_pred_train_dt['y_actual'].cumsum()\n",
    "df_actual_pred_train_dt['Cumulative N Good'] = df_actual_pred_train_dt['Cumulative N Population'] - df_actual_pred_train_dt['Cumulative N Bad']\n",
    "df_actual_pred_train_dt['Cumulative Perc Population'] = df_actual_pred_train_dt['Cumulative N Population'] / df_actual_pred_train_dt.shape[0]\n",
    "df_actual_pred_train_dt['Cumulative Perc Bad'] = df_actual_pred_train_dt['Cumulative N Bad'] / df_actual_pred_train_dt['y_actual'].sum()\n",
    "df_actual_pred_train_dt['Cumulative Perc Good'] = df_actual_pred_train_dt['Cumulative N Good'] / (df_actual_pred_train_dt.shape[0] - df_actual_pred_train_dt['y_actual'].sum())\n",
    "KS_dt_train = max(df_actual_pred_train_dt['Cumulative Perc Good'] - df_actual_pred_train_dt['Cumulative Perc Bad'])\n",
    "\n",
    "#Val Test\n",
    "y_pred_proba = dt.predict_proba(X_test)[:][:,1]\n",
    "df_actual_pred_test_dt = pd.concat([pd.DataFrame(np.array(y_test), columns=['y_actual']), pd.DataFrame(y_pred_proba, columns=['y_pred_proba'])], axis=1)\n",
    "df_actual_pred_test_dt.index = y_test.index\n",
    "fpr, tpr, tr = roc_curve(df_actual_pred_test_dt['y_actual'], df_actual_pred_test_dt['y_pred_proba'])\n",
    "auc_dt_test = roc_auc_score(df_actual_pred_test_dt['y_actual'], df_actual_pred_test_dt['y_pred_proba'])\n",
    "\n",
    "df_actual_pred_test_dt = df_actual_pred_test_dt.sort_values('y_pred_proba')\n",
    "df_actual_pred_test_dt = df_actual_pred_test_dt.reset_index()\n",
    "df_actual_pred_test_dt['Cumulative N Population'] = df_actual_pred_test_dt.index + 1\n",
    "df_actual_pred_test_dt['Cumulative N Bad'] = df_actual_pred_test_dt['y_actual'].cumsum()\n",
    "df_actual_pred_test_dt['Cumulative N Good'] = df_actual_pred_test_dt['Cumulative N Population'] - df_actual_pred_test_dt['Cumulative N Bad']\n",
    "df_actual_pred_test_dt['Cumulative Perc Population'] = df_actual_pred_test_dt['Cumulative N Population'] / df_actual_pred_test_dt.shape[0]\n",
    "df_actual_pred_test_dt['Cumulative Perc Bad'] = df_actual_pred_test_dt['Cumulative N Bad'] / df_actual_pred_test_dt['y_actual'].sum()\n",
    "df_actual_pred_test_dt['Cumulative Perc Good'] = df_actual_pred_test_dt['Cumulative N Good'] / (df_actual_pred_test_dt.shape[0] - df_actual_pred_test_dt['y_actual'].sum())\n",
    "KS_dt_test = max(df_actual_pred_test_dt['Cumulative Perc Good'] - df_actual_pred_test_dt['Cumulative Perc Bad'])\n",
    "\n",
    "\n",
    "print('AUC Train \\t\\t: %.2f' % auc_dt_train)\n",
    "print('AUC Test \\t\\t: %.2f' % auc_dt_test)\n",
    "\n",
    "\n",
    "print('KS Train \\t\\t: %.2f' % KS_dt_train)\n",
    "print('KS Test \\t\\t: %.2f' % KS_dt_test)"
   ]
  },
  {
   "cell_type": "markdown",
   "id": "4892e905-1a01-42e2-bf15-22f33efccabf",
   "metadata": {},
   "source": [
    "### XGBoost Classifier"
   ]
  },
  {
   "cell_type": "code",
   "execution_count": 76,
   "id": "cff96b76-0852-4405-a479-51fb2a1caa21",
   "metadata": {},
   "outputs": [
    {
     "name": "stdout",
     "output_type": "stream",
     "text": [
      "AUC Train \t\t: 0.90\n",
      "AUC Test \t\t: 0.89\n",
      "KS Train \t\t: 0.64\n",
      "KS Test \t\t: 0.62\n"
     ]
    }
   ],
   "source": [
    "# Fit - train\n",
    "import xgboost as xgb\n",
    "xgb = xgb.XGBClassifier(random_state=42, max_depth=4)\n",
    "\n",
    "# Train\n",
    "xgb.fit(X_train, y_train)\n",
    "\n",
    "#Val Train\n",
    "y_pred_train = xgb.predict_proba(X_train)[:][:,1]\n",
    "df_actual_pred_train_xgb = pd.concat([pd.DataFrame(np.array(y_train), columns=['y_actual']), pd.DataFrame(y_pred_train, columns=['y_pred_train'])], axis=1)\n",
    "df_actual_pred_train_xgb.index = y_train.index\n",
    "\n",
    "fpr, tpr, tr = roc_curve(df_actual_pred_train_xgb['y_actual'], df_actual_pred_train_xgb['y_pred_train'])\n",
    "auc_xgb_train = roc_auc_score(df_actual_pred_train_xgb['y_actual'], df_actual_pred_train_xgb['y_pred_train'])\n",
    "\n",
    "df_actual_pred_train_xgb = df_actual_pred_train_xgb.sort_values('y_pred_train')\n",
    "df_actual_pred_train_xgb = df_actual_pred_train_xgb.reset_index()\n",
    "df_actual_pred_train_xgb['Cumulative N Population'] = df_actual_pred_train_xgb.index + 1\n",
    "df_actual_pred_train_xgb['Cumulative N Bad'] = df_actual_pred_train_xgb['y_actual'].cumsum()\n",
    "df_actual_pred_train_xgb['Cumulative N Good'] = df_actual_pred_train_xgb['Cumulative N Population'] - df_actual_pred_train_xgb['Cumulative N Bad']\n",
    "df_actual_pred_train_xgb['Cumulative Perc Population'] = df_actual_pred_train_xgb['Cumulative N Population'] / df_actual_pred_train_xgb.shape[0]\n",
    "df_actual_pred_train_xgb['Cumulative Perc Bad'] = df_actual_pred_train_xgb['Cumulative N Bad'] / df_actual_pred_train_xgb['y_actual'].sum()\n",
    "df_actual_pred_train_xgb['Cumulative Perc Good'] = df_actual_pred_train_xgb['Cumulative N Good'] / (df_actual_pred_train_xgb.shape[0] - df_actual_pred_train_xgb['y_actual'].sum())\n",
    "KS_xgb_train = max(df_actual_pred_train_xgb['Cumulative Perc Good'] - df_actual_pred_train_xgb['Cumulative Perc Bad'])\n",
    "\n",
    "#Val Test\n",
    "y_pred_proba = xgb.predict_proba(X_test)[:][:,1]\n",
    "df_actual_pred_test_xgb = pd.concat([pd.DataFrame(np.array(y_test), columns=['y_actual']), pd.DataFrame(y_pred_proba, columns=['y_pred_proba'])], axis=1)\n",
    "df_actual_pred_test_xgb.index = y_test.index\n",
    "fpr, tpr, tr = roc_curve(df_actual_pred_test_xgb['y_actual'], df_actual_pred_test_xgb['y_pred_proba'])\n",
    "auc_xgb_test = roc_auc_score(df_actual_pred_test_xgb['y_actual'], df_actual_pred_test_xgb['y_pred_proba'])\n",
    "\n",
    "df_actual_pred_test_xgb = df_actual_pred_test_xgb.sort_values('y_pred_proba')\n",
    "df_actual_pred_test_xgb = df_actual_pred_test_xgb.reset_index()\n",
    "df_actual_pred_test_xgb['Cumulative N Population'] = df_actual_pred_test_xgb.index + 1\n",
    "df_actual_pred_test_xgb['Cumulative N Bad'] = df_actual_pred_test_xgb['y_actual'].cumsum()\n",
    "df_actual_pred_test_xgb['Cumulative N Good'] = df_actual_pred_test_xgb['Cumulative N Population'] - df_actual_pred_test_xgb['Cumulative N Bad']\n",
    "df_actual_pred_test_xgb['Cumulative Perc Population'] = df_actual_pred_test_xgb['Cumulative N Population'] / df_actual_pred_test_xgb.shape[0]\n",
    "df_actual_pred_test_xgb['Cumulative Perc Bad'] = df_actual_pred_test_xgb['Cumulative N Bad'] / df_actual_pred_test_xgb['y_actual'].sum()\n",
    "df_actual_pred_test_xgb['Cumulative Perc Good'] = df_actual_pred_test_xgb['Cumulative N Good'] / (df_actual_pred_test_xgb.shape[0] - df_actual_pred_test_xgb['y_actual'].sum())\n",
    "KS_xgb_test = max(df_actual_pred_test_xgb['Cumulative Perc Good'] - df_actual_pred_test_xgb['Cumulative Perc Bad'])\n",
    "\n",
    "\n",
    "print('AUC Train \\t\\t: %.2f' % auc_xgb_train)\n",
    "print('AUC Test \\t\\t: %.2f' % auc_xgb_test)\n",
    "\n",
    "\n",
    "print('KS Train \\t\\t: %.2f' % KS_xgb_train)\n",
    "print('KS Test \\t\\t: %.2f' % KS_xgb_test)"
   ]
  },
  {
   "cell_type": "markdown",
   "id": "f4d9dc53-2828-4427-990f-65fd78555d33",
   "metadata": {},
   "source": [
    "### Evaluation & selection base model for Tuning"
   ]
  },
  {
   "cell_type": "code",
   "execution_count": 77,
   "id": "c5022902-ad12-4813-a449-90ae5477f31b",
   "metadata": {},
   "outputs": [
    {
     "name": "stderr",
     "output_type": "stream",
     "text": [
      "C:\\Users\\user\\AppData\\Local\\Temp\\ipykernel_13780\\3981476610.py:8: FutureWarning: In a future version of pandas all arguments of DataFrame.drop except for the argument 'labels' will be keyword-only.\n",
      "  sorted_df = result.sort_values(by=['AUC Train'], ascending=False).reset_index().drop('index', 1)\n"
     ]
    },
    {
     "data": {
      "text/html": [
       "<div>\n",
       "<style scoped>\n",
       "    .dataframe tbody tr th:only-of-type {\n",
       "        vertical-align: middle;\n",
       "    }\n",
       "\n",
       "    .dataframe tbody tr th {\n",
       "        vertical-align: top;\n",
       "    }\n",
       "\n",
       "    .dataframe thead th {\n",
       "        text-align: right;\n",
       "    }\n",
       "</style>\n",
       "<table border=\"1\" class=\"dataframe\">\n",
       "  <thead>\n",
       "    <tr style=\"text-align: right;\">\n",
       "      <th></th>\n",
       "      <th>Algorithm used</th>\n",
       "      <th>AUC Train</th>\n",
       "      <th>AUC Test</th>\n",
       "      <th>KS Train</th>\n",
       "      <th>KS Test</th>\n",
       "    </tr>\n",
       "  </thead>\n",
       "  <tbody>\n",
       "    <tr>\n",
       "      <th>0</th>\n",
       "      <td>XgBoost</td>\n",
       "      <td>0.90</td>\n",
       "      <td>0.89</td>\n",
       "      <td>0.64</td>\n",
       "      <td>0.62</td>\n",
       "    </tr>\n",
       "    <tr>\n",
       "      <th>1</th>\n",
       "      <td>Random Forest</td>\n",
       "      <td>0.86</td>\n",
       "      <td>0.86</td>\n",
       "      <td>0.56</td>\n",
       "      <td>0.56</td>\n",
       "    </tr>\n",
       "    <tr>\n",
       "      <th>2</th>\n",
       "      <td>Decission Tree</td>\n",
       "      <td>0.85</td>\n",
       "      <td>0.85</td>\n",
       "      <td>0.56</td>\n",
       "      <td>0.56</td>\n",
       "    </tr>\n",
       "  </tbody>\n",
       "</table>\n",
       "</div>"
      ],
      "text/plain": [
       "   Algorithm used  AUC Train  AUC Test  KS Train  KS Test\n",
       "0         XgBoost       0.90      0.89      0.64     0.62\n",
       "1   Random Forest       0.86      0.86      0.56     0.56\n",
       "2  Decission Tree       0.85      0.85      0.56     0.56"
      ]
     },
     "execution_count": 77,
     "metadata": {},
     "output_type": "execute_result"
    }
   ],
   "source": [
    "result = pd.DataFrame({'Algorithm used':['XgBoost','Decission Tree','Random Forest'],\n",
    "                       'AUC Train':[auc_xgb_train,auc_dt_train,auc_rf_train],\n",
    "                       'AUC Test':[auc_xgb_test,auc_dt_test,auc_rf_test],\n",
    "                       'KS Train':[KS_xgb_train,KS_dt_train,KS_rf_train],\n",
    "                       'KS Test':[KS_xgb_test,KS_dt_test,KS_rf_test]\n",
    "                        })\n",
    "# result\n",
    "sorted_df = result.sort_values(by=['AUC Train'], ascending=False).reset_index().drop('index', 1)\n",
    "sorted_df.round(2)"
   ]
  },
  {
   "cell_type": "markdown",
   "id": "bd4dd566-220e-4f72-b735-ad87d6372f0d",
   "metadata": {},
   "source": [
    "#### AUC "
   ]
  },
  {
   "cell_type": "code",
   "execution_count": 79,
   "id": "3caca03b-ef02-4875-9825-4b612447cd49",
   "metadata": {},
   "outputs": [
    {
     "ename": "NameError",
     "evalue": "name 'df_actual_predicted' is not defined",
     "output_type": "error",
     "traceback": [
      "\u001b[1;31m---------------------------------------------------------------------------\u001b[0m",
      "\u001b[1;31mNameError\u001b[0m                                 Traceback (most recent call last)",
      "Input \u001b[1;32mIn [79]\u001b[0m, in \u001b[0;36m<cell line: 1>\u001b[1;34m()\u001b[0m\n\u001b[1;32m----> 1\u001b[0m fpr, tpr, tr \u001b[38;5;241m=\u001b[39m roc_curve(\u001b[43mdf_actual_predicted\u001b[49m[\u001b[38;5;124m'\u001b[39m\u001b[38;5;124my_actual\u001b[39m\u001b[38;5;124m'\u001b[39m], df_actual_predicted[\u001b[38;5;124m'\u001b[39m\u001b[38;5;124my_pred_proba\u001b[39m\u001b[38;5;124m'\u001b[39m])\n\u001b[0;32m      2\u001b[0m auc \u001b[38;5;241m=\u001b[39m roc_auc_score(df_actual_predicted[\u001b[38;5;124m'\u001b[39m\u001b[38;5;124my_actual\u001b[39m\u001b[38;5;124m'\u001b[39m], df_actual_predicted[\u001b[38;5;124m'\u001b[39m\u001b[38;5;124my_pred_proba\u001b[39m\u001b[38;5;124m'\u001b[39m])\n\u001b[0;32m      4\u001b[0m plt\u001b[38;5;241m.\u001b[39mplot(fpr, tpr, label\u001b[38;5;241m=\u001b[39m\u001b[38;5;124m'\u001b[39m\u001b[38;5;124mAUC = \u001b[39m\u001b[38;5;132;01m%0.4f\u001b[39;00m\u001b[38;5;124m'\u001b[39m \u001b[38;5;241m%\u001b[39mauc)\n",
      "\u001b[1;31mNameError\u001b[0m: name 'df_actual_predicted' is not defined"
     ]
    }
   ],
   "source": [
    "fpr, tpr, tr = roc_curve(df_actual_predicted['y_actual'], df_actual_predicted['y_pred_proba'])\n",
    "auc = roc_auc_score(df_actual_predicted['y_actual'], df_actual_predicted['y_pred_proba'])\n",
    "\n",
    "plt.plot(fpr, tpr, label='AUC = %0.4f' %auc)\n",
    "plt.plot(fpr, fpr, linestyle = '--', color='k')\n",
    "plt.xlabel('False Positive Rate')\n",
    "plt.ylabel('True Positive Rate')\n",
    "plt.title('ROC Curve')\n",
    "plt.legend()"
   ]
  },
  {
   "cell_type": "markdown",
   "id": "926486bb-b1a0-4829-bea2-649735bd5b92",
   "metadata": {},
   "source": [
    "#### KS "
   ]
  },
  {
   "cell_type": "code",
   "execution_count": null,
   "id": "2d5b2b28-601b-470f-a6fd-6031143bd3ab",
   "metadata": {},
   "outputs": [],
   "source": [
    "df_actual_predicted.head()"
   ]
  },
  {
   "cell_type": "code",
   "execution_count": null,
   "id": "441a4f8b-c2ca-4edd-8930-66700645d818",
   "metadata": {},
   "outputs": [],
   "source": [
    "KS = max(df_actual_predicted['Cumulative Perc Good'] - df_actual_predicted['Cumulative Perc Bad'])\n",
    "\n",
    "plt.plot(df_actual_predicted['y_pred_proba'], df_actual_predicted['Cumulative Perc Bad'], color='r')\n",
    "plt.plot(df_actual_predicted['y_pred_proba'], df_actual_predicted['Cumulative Perc Good'], color='b')\n",
    "plt.xlabel('Estimated Probability for Being Bad')\n",
    "plt.ylabel('Cumulative %')\n",
    "plt.title('Kolmogorov-Smirnov:  %0.4f' %KS)"
   ]
  },
  {
   "cell_type": "markdown",
   "id": "1dbdd107-1b69-4e89-96aa-9cb27a093a09",
   "metadata": {},
   "source": [
    "Model yang dibangun menghasilkan performa `AUC = 0.89` dan `KS = 0.62`. Pada dunia credit risk modeling, umumnya AUC di atas 0.7 dan KS di atas 0.3 sudah termasuk performa yang baik."
   ]
  },
  {
   "cell_type": "markdown",
   "id": "6c4abdf2-54f8-4107-9282-27dc142870dd",
   "metadata": {},
   "source": [
    "## Feature Importance"
   ]
  },
  {
   "cell_type": "code",
   "execution_count": null,
   "id": "716e384e-868d-4060-ac19-b40ae8f68ce5",
   "metadata": {},
   "outputs": [],
   "source": [
    "import shap"
   ]
  },
  {
   "cell_type": "code",
   "execution_count": null,
   "id": "6059f230-6924-4972-9e1b-ba3f09a69d6b",
   "metadata": {},
   "outputs": [],
   "source": [
    "explainer = shap.TreeExplainer(xgb)\n",
    "shap_values = explainer.shap_values(X_test)"
   ]
  },
  {
   "cell_type": "code",
   "execution_count": null,
   "id": "0687a692-c2d1-422a-9d6b-da630b59223a",
   "metadata": {},
   "outputs": [],
   "source": [
    "shap.summary_plot(shap_values, X_test, plot_type=\"bar\")"
   ]
  },
  {
   "cell_type": "markdown",
   "id": "ac3d818f-24f5-4784-9666-5e9f5a493263",
   "metadata": {},
   "source": [
    "# SARAN"
   ]
  },
  {
   "cell_type": "markdown",
   "id": "8f0ecac4-e968-4711-935e-03c3fae15139",
   "metadata": {},
   "source": [
    "Beberapa langkah tambahan yang dapat dilakukan untuk proyek ini adalah sebagai berikut:\n",
    "\n",
    "- Jika Anda menginginkan tingkat interpretabilitas yang lebih tinggi, pertimbangkan membuat Skor Kredit menggunakan algoritma Regresi Logistik dengan pendekatan seperti Seleksi Fitur menggunakan Informasi Nilai dan Teknik Peningkatan Kredibilitas menggunakan Bobot Bukti.\n",
    "\n",
    "- Jika interpretabilitas bukan prioritas utama, coba eksplorasi algoritma Machine Learning lain seperti Boosting.\n",
    "\n",
    "- Lakukan penyetelan hyperparameter untuk meningkatkan performa model.\n",
    "\n",
    "- Pastikan bahwa model yang dibuat tidak mengalami overfitting. Untuk melakukan ini, bandingkan performa model saat melakukan prediksi pada data pelatihan dan pada data pengujian.\n",
    "\n",
    "- Biasanya, langkah yang lebih tepat adalah membagi data menjadi set pelatihan dan pengujian sebelum melakukan transformasi fitur seperti pengkodean atau penskalaan. Namun, dalam contoh ini, langkah ini diabaikan untuk alasan kepraktisan, karena perbedaan performa umumnya tidak signifikan."
   ]
  }
 ],
 "metadata": {
  "kernelspec": {
   "display_name": "Python 3 (ipykernel)",
   "language": "python",
   "name": "python3"
  },
  "language_info": {
   "codemirror_mode": {
    "name": "ipython",
    "version": 3
   },
   "file_extension": ".py",
   "mimetype": "text/x-python",
   "name": "python",
   "nbconvert_exporter": "python",
   "pygments_lexer": "ipython3",
   "version": "3.9.12"
  }
 },
 "nbformat": 4,
 "nbformat_minor": 5
}
